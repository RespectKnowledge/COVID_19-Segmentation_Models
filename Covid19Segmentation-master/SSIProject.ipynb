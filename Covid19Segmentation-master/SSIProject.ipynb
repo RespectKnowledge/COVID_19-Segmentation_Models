{
  "nbformat": 4,
  "nbformat_minor": 0,
  "metadata": {
    "colab": {
      "name": "SSIProject.ipynb",
      "provenance": [],
      "collapsed_sections": [
        "_pFuiKn1HGMs",
        "lF2FahRfDMJL"
      ],
      "toc_visible": true
    },
    "kernelspec": {
      "name": "python3",
      "display_name": "Python 3"
    },
    "accelerator": "GPU"
  },
  "cells": [
    {
      "cell_type": "markdown",
      "metadata": {
        "id": "kK1b1GxXALLI",
        "colab_type": "text"
      },
      "source": [
        "## Packages \n"
      ]
    },
    {
      "cell_type": "code",
      "metadata": {
        "id": "e0Y9yxsDAGPt",
        "colab_type": "code",
        "colab": {
          "base_uri": "https://localhost:8080/",
          "height": 1000
        },
        "outputId": "9ca6f396-b133-4929-b727-8b94b10f7162"
      },
      "source": [
        "import os\n",
        "import numpy as np\n",
        "import matplotlib.pyplot as plt \n",
        "import glob\n",
        "import nibabel as nib\n",
        "from skimage.io import imsave\n",
        "from skimage.transform import resize\n",
        "from sklearn.preprocessing import normalize\n",
        "from tensorflow.keras import layers\n",
        "import tensorflow as tf\n",
        "import numpy as np\n",
        "from tensorflow import keras\n",
        "from tensorflow.keras import layers\n",
        "from tqdm import tqdm\n",
        "from skimage.io import imread, imshow\n",
        "from sklearn.model_selection import train_test_split\n",
        "from keras.callbacks import  ModelCheckpoint\n",
        "import matplotlib.pyplot as plt\n",
        "%matplotlib inline\n",
        "!pip install --upgrade tensorflow\n",
        "!pip install segmentation_models\n",
        "import segmentation_models as sm\n",
        "import cv2\n",
        "!pip install split-folders\n",
        "!pip install \"tensorflow_hub>=0.6.0\"\n",
        "import tensorflow_hub as tfhub\n",
        "import statsmodels.api as stats\n",
        "# !python -m pip install -U efficientnet\n",
        "\n"
      ],
      "execution_count": 1,
      "outputs": [
        {
          "output_type": "stream",
          "text": [
            "Using TensorFlow backend.\n"
          ],
          "name": "stderr"
        },
        {
          "output_type": "stream",
          "text": [
            "Requirement already up-to-date: tensorflow in /usr/local/lib/python3.6/dist-packages (2.2.0)\n",
            "Requirement already satisfied, skipping upgrade: wrapt>=1.11.1 in /usr/local/lib/python3.6/dist-packages (from tensorflow) (1.12.1)\n",
            "Requirement already satisfied, skipping upgrade: tensorboard<2.3.0,>=2.2.0 in /usr/local/lib/python3.6/dist-packages (from tensorflow) (2.2.2)\n",
            "Requirement already satisfied, skipping upgrade: google-pasta>=0.1.8 in /usr/local/lib/python3.6/dist-packages (from tensorflow) (0.2.0)\n",
            "Requirement already satisfied, skipping upgrade: termcolor>=1.1.0 in /usr/local/lib/python3.6/dist-packages (from tensorflow) (1.1.0)\n",
            "Requirement already satisfied, skipping upgrade: keras-preprocessing>=1.1.0 in /usr/local/lib/python3.6/dist-packages (from tensorflow) (1.1.2)\n",
            "Requirement already satisfied, skipping upgrade: protobuf>=3.8.0 in /usr/local/lib/python3.6/dist-packages (from tensorflow) (3.10.0)\n",
            "Requirement already satisfied, skipping upgrade: six>=1.12.0 in /usr/local/lib/python3.6/dist-packages (from tensorflow) (1.12.0)\n",
            "Requirement already satisfied, skipping upgrade: gast==0.3.3 in /usr/local/lib/python3.6/dist-packages (from tensorflow) (0.3.3)\n",
            "Requirement already satisfied, skipping upgrade: wheel>=0.26; python_version >= \"3\" in /usr/local/lib/python3.6/dist-packages (from tensorflow) (0.34.2)\n",
            "Requirement already satisfied, skipping upgrade: astunparse==1.6.3 in /usr/local/lib/python3.6/dist-packages (from tensorflow) (1.6.3)\n",
            "Requirement already satisfied, skipping upgrade: tensorflow-estimator<2.3.0,>=2.2.0 in /usr/local/lib/python3.6/dist-packages (from tensorflow) (2.2.0)\n",
            "Requirement already satisfied, skipping upgrade: numpy<2.0,>=1.16.0 in /usr/local/lib/python3.6/dist-packages (from tensorflow) (1.18.5)\n",
            "Requirement already satisfied, skipping upgrade: opt-einsum>=2.3.2 in /usr/local/lib/python3.6/dist-packages (from tensorflow) (3.2.1)\n",
            "Requirement already satisfied, skipping upgrade: absl-py>=0.7.0 in /usr/local/lib/python3.6/dist-packages (from tensorflow) (0.9.0)\n",
            "Requirement already satisfied, skipping upgrade: scipy==1.4.1; python_version >= \"3\" in /usr/local/lib/python3.6/dist-packages (from tensorflow) (1.4.1)\n",
            "Requirement already satisfied, skipping upgrade: grpcio>=1.8.6 in /usr/local/lib/python3.6/dist-packages (from tensorflow) (1.29.0)\n",
            "Requirement already satisfied, skipping upgrade: h5py<2.11.0,>=2.10.0 in /usr/local/lib/python3.6/dist-packages (from tensorflow) (2.10.0)\n",
            "Requirement already satisfied, skipping upgrade: werkzeug>=0.11.15 in /usr/local/lib/python3.6/dist-packages (from tensorboard<2.3.0,>=2.2.0->tensorflow) (1.0.1)\n",
            "Requirement already satisfied, skipping upgrade: setuptools>=41.0.0 in /usr/local/lib/python3.6/dist-packages (from tensorboard<2.3.0,>=2.2.0->tensorflow) (47.1.1)\n",
            "Requirement already satisfied, skipping upgrade: google-auth-oauthlib<0.5,>=0.4.1 in /usr/local/lib/python3.6/dist-packages (from tensorboard<2.3.0,>=2.2.0->tensorflow) (0.4.1)\n",
            "Requirement already satisfied, skipping upgrade: google-auth<2,>=1.6.3 in /usr/local/lib/python3.6/dist-packages (from tensorboard<2.3.0,>=2.2.0->tensorflow) (1.7.2)\n",
            "Requirement already satisfied, skipping upgrade: requests<3,>=2.21.0 in /usr/local/lib/python3.6/dist-packages (from tensorboard<2.3.0,>=2.2.0->tensorflow) (2.23.0)\n",
            "Requirement already satisfied, skipping upgrade: markdown>=2.6.8 in /usr/local/lib/python3.6/dist-packages (from tensorboard<2.3.0,>=2.2.0->tensorflow) (3.2.2)\n",
            "Requirement already satisfied, skipping upgrade: tensorboard-plugin-wit>=1.6.0 in /usr/local/lib/python3.6/dist-packages (from tensorboard<2.3.0,>=2.2.0->tensorflow) (1.6.0.post3)\n",
            "Requirement already satisfied, skipping upgrade: requests-oauthlib>=0.7.0 in /usr/local/lib/python3.6/dist-packages (from google-auth-oauthlib<0.5,>=0.4.1->tensorboard<2.3.0,>=2.2.0->tensorflow) (1.3.0)\n",
            "Requirement already satisfied, skipping upgrade: pyasn1-modules>=0.2.1 in /usr/local/lib/python3.6/dist-packages (from google-auth<2,>=1.6.3->tensorboard<2.3.0,>=2.2.0->tensorflow) (0.2.8)\n",
            "Requirement already satisfied, skipping upgrade: cachetools<3.2,>=2.0.0 in /usr/local/lib/python3.6/dist-packages (from google-auth<2,>=1.6.3->tensorboard<2.3.0,>=2.2.0->tensorflow) (3.1.1)\n",
            "Requirement already satisfied, skipping upgrade: rsa<4.1,>=3.1.4 in /usr/local/lib/python3.6/dist-packages (from google-auth<2,>=1.6.3->tensorboard<2.3.0,>=2.2.0->tensorflow) (4.0)\n",
            "Requirement already satisfied, skipping upgrade: urllib3!=1.25.0,!=1.25.1,<1.26,>=1.21.1 in /usr/local/lib/python3.6/dist-packages (from requests<3,>=2.21.0->tensorboard<2.3.0,>=2.2.0->tensorflow) (1.24.3)\n",
            "Requirement already satisfied, skipping upgrade: certifi>=2017.4.17 in /usr/local/lib/python3.6/dist-packages (from requests<3,>=2.21.0->tensorboard<2.3.0,>=2.2.0->tensorflow) (2020.4.5.1)\n",
            "Requirement already satisfied, skipping upgrade: chardet<4,>=3.0.2 in /usr/local/lib/python3.6/dist-packages (from requests<3,>=2.21.0->tensorboard<2.3.0,>=2.2.0->tensorflow) (3.0.4)\n",
            "Requirement already satisfied, skipping upgrade: idna<3,>=2.5 in /usr/local/lib/python3.6/dist-packages (from requests<3,>=2.21.0->tensorboard<2.3.0,>=2.2.0->tensorflow) (2.9)\n",
            "Requirement already satisfied, skipping upgrade: importlib-metadata; python_version < \"3.8\" in /usr/local/lib/python3.6/dist-packages (from markdown>=2.6.8->tensorboard<2.3.0,>=2.2.0->tensorflow) (1.6.0)\n",
            "Requirement already satisfied, skipping upgrade: oauthlib>=3.0.0 in /usr/local/lib/python3.6/dist-packages (from requests-oauthlib>=0.7.0->google-auth-oauthlib<0.5,>=0.4.1->tensorboard<2.3.0,>=2.2.0->tensorflow) (3.1.0)\n",
            "Requirement already satisfied, skipping upgrade: pyasn1<0.5.0,>=0.4.6 in /usr/local/lib/python3.6/dist-packages (from pyasn1-modules>=0.2.1->google-auth<2,>=1.6.3->tensorboard<2.3.0,>=2.2.0->tensorflow) (0.4.8)\n",
            "Requirement already satisfied, skipping upgrade: zipp>=0.5 in /usr/local/lib/python3.6/dist-packages (from importlib-metadata; python_version < \"3.8\"->markdown>=2.6.8->tensorboard<2.3.0,>=2.2.0->tensorflow) (3.1.0)\n",
            "Collecting segmentation_models\n",
            "  Downloading https://files.pythonhosted.org/packages/da/b9/4a183518c21689a56b834eaaa45cad242d9ec09a4360b5b10139f23c63f4/segmentation_models-1.0.1-py3-none-any.whl\n",
            "Collecting image-classifiers==1.0.0\n",
            "  Downloading https://files.pythonhosted.org/packages/81/98/6f84720e299a4942ab80df5f76ab97b7828b24d1de5e9b2cbbe6073228b7/image_classifiers-1.0.0-py3-none-any.whl\n",
            "Requirement already satisfied: keras-applications<=1.0.8,>=1.0.7 in /usr/local/lib/python3.6/dist-packages (from segmentation_models) (1.0.8)\n",
            "Collecting efficientnet==1.0.0\n",
            "  Downloading https://files.pythonhosted.org/packages/97/82/f3ae07316f0461417dc54affab6e86ab188a5a22f33176d35271628b96e0/efficientnet-1.0.0-py3-none-any.whl\n",
            "Requirement already satisfied: numpy>=1.9.1 in /usr/local/lib/python3.6/dist-packages (from keras-applications<=1.0.8,>=1.0.7->segmentation_models) (1.18.5)\n",
            "Requirement already satisfied: h5py in /usr/local/lib/python3.6/dist-packages (from keras-applications<=1.0.8,>=1.0.7->segmentation_models) (2.10.0)\n",
            "Requirement already satisfied: scikit-image in /usr/local/lib/python3.6/dist-packages (from efficientnet==1.0.0->segmentation_models) (0.16.2)\n",
            "Requirement already satisfied: six in /usr/local/lib/python3.6/dist-packages (from h5py->keras-applications<=1.0.8,>=1.0.7->segmentation_models) (1.12.0)\n",
            "Requirement already satisfied: networkx>=2.0 in /usr/local/lib/python3.6/dist-packages (from scikit-image->efficientnet==1.0.0->segmentation_models) (2.4)\n",
            "Requirement already satisfied: PyWavelets>=0.4.0 in /usr/local/lib/python3.6/dist-packages (from scikit-image->efficientnet==1.0.0->segmentation_models) (1.1.1)\n",
            "Requirement already satisfied: imageio>=2.3.0 in /usr/local/lib/python3.6/dist-packages (from scikit-image->efficientnet==1.0.0->segmentation_models) (2.4.1)\n",
            "Requirement already satisfied: scipy>=0.19.0 in /usr/local/lib/python3.6/dist-packages (from scikit-image->efficientnet==1.0.0->segmentation_models) (1.4.1)\n",
            "Requirement already satisfied: matplotlib!=3.0.0,>=2.0.0 in /usr/local/lib/python3.6/dist-packages (from scikit-image->efficientnet==1.0.0->segmentation_models) (3.2.1)\n",
            "Requirement already satisfied: pillow>=4.3.0 in /usr/local/lib/python3.6/dist-packages (from scikit-image->efficientnet==1.0.0->segmentation_models) (7.0.0)\n",
            "Requirement already satisfied: decorator>=4.3.0 in /usr/local/lib/python3.6/dist-packages (from networkx>=2.0->scikit-image->efficientnet==1.0.0->segmentation_models) (4.4.2)\n",
            "Requirement already satisfied: cycler>=0.10 in /usr/local/lib/python3.6/dist-packages (from matplotlib!=3.0.0,>=2.0.0->scikit-image->efficientnet==1.0.0->segmentation_models) (0.10.0)\n",
            "Requirement already satisfied: python-dateutil>=2.1 in /usr/local/lib/python3.6/dist-packages (from matplotlib!=3.0.0,>=2.0.0->scikit-image->efficientnet==1.0.0->segmentation_models) (2.8.1)\n",
            "Requirement already satisfied: pyparsing!=2.0.4,!=2.1.2,!=2.1.6,>=2.0.1 in /usr/local/lib/python3.6/dist-packages (from matplotlib!=3.0.0,>=2.0.0->scikit-image->efficientnet==1.0.0->segmentation_models) (2.4.7)\n",
            "Requirement already satisfied: kiwisolver>=1.0.1 in /usr/local/lib/python3.6/dist-packages (from matplotlib!=3.0.0,>=2.0.0->scikit-image->efficientnet==1.0.0->segmentation_models) (1.2.0)\n",
            "Installing collected packages: image-classifiers, efficientnet, segmentation-models\n",
            "Successfully installed efficientnet-1.0.0 image-classifiers-1.0.0 segmentation-models-1.0.1\n",
            "Segmentation Models: using `keras` framework.\n",
            "Collecting split-folders\n",
            "  Downloading https://files.pythonhosted.org/packages/20/67/29dda743e6d23ac1ea3d16704d8bbb48d65faf3f1b1eaf53153b3da56c56/split_folders-0.3.1-py3-none-any.whl\n",
            "Installing collected packages: split-folders\n",
            "Successfully installed split-folders-0.3.1\n",
            "Requirement already satisfied: tensorflow_hub>=0.6.0 in /usr/local/lib/python3.6/dist-packages (0.8.0)\n",
            "Requirement already satisfied: protobuf>=3.8.0 in /usr/local/lib/python3.6/dist-packages (from tensorflow_hub>=0.6.0) (3.10.0)\n",
            "Requirement already satisfied: six>=1.12.0 in /usr/local/lib/python3.6/dist-packages (from tensorflow_hub>=0.6.0) (1.12.0)\n",
            "Requirement already satisfied: numpy>=1.12.0 in /usr/local/lib/python3.6/dist-packages (from tensorflow_hub>=0.6.0) (1.18.5)\n",
            "Requirement already satisfied: setuptools in /usr/local/lib/python3.6/dist-packages (from protobuf>=3.8.0->tensorflow_hub>=0.6.0) (47.1.1)\n"
          ],
          "name": "stdout"
        },
        {
          "output_type": "stream",
          "text": [
            "/usr/local/lib/python3.6/dist-packages/statsmodels/tools/_testing.py:19: FutureWarning: pandas.util.testing is deprecated. Use the functions in the public API at pandas.testing instead.\n",
            "  import pandas.util.testing as tm\n"
          ],
          "name": "stderr"
        }
      ]
    },
    {
      "cell_type": "code",
      "metadata": {
        "id": "eqghkgnzPzkl",
        "colab_type": "code",
        "outputId": "9c928de0-d1b0-4c57-d460-ca2f5c983987",
        "colab": {
          "base_uri": "https://localhost:8080/",
          "height": 128
        }
      },
      "source": [
        "from google.colab import drive\n",
        "drive.mount('/content/drive')"
      ],
      "execution_count": 2,
      "outputs": [
        {
          "output_type": "stream",
          "text": [
            "Go to this URL in a browser: https://accounts.google.com/o/oauth2/auth?client_id=947318989803-6bn6qk8qdgf4n4g3pfee6491hc0brc4i.apps.googleusercontent.com&redirect_uri=urn%3aietf%3awg%3aoauth%3a2.0%3aoob&response_type=code&scope=email%20https%3a%2f%2fwww.googleapis.com%2fauth%2fdocs.test%20https%3a%2f%2fwww.googleapis.com%2fauth%2fdrive%20https%3a%2f%2fwww.googleapis.com%2fauth%2fdrive.photos.readonly%20https%3a%2f%2fwww.googleapis.com%2fauth%2fpeopleapi.readonly\n",
            "\n",
            "Enter your authorization code:\n",
            "··········\n",
            "Mounted at /content/drive\n"
          ],
          "name": "stdout"
        }
      ]
    },
    {
      "cell_type": "markdown",
      "metadata": {
        "id": "_pFuiKn1HGMs",
        "colab_type": "text"
      },
      "source": [
        "## Download The Data "
      ]
    },
    {
      "cell_type": "code",
      "metadata": {
        "id": "E2mqmJbfHF5X",
        "colab_type": "code",
        "colab": {}
      },
      "source": [
        "\n",
        "#Download the dataset\n",
        "!wget https://zenodo.org/record/3757476/files/COVID-19-CT-Seg_20cases.zip?download=1\n",
        "!wget https://zenodo.org/record/3757476/files/Lung_and_Infection_Mask.zip?download=1\n",
        "\n",
        "# Rename the zip files to images and masks, it will be save in the content colab directory \n",
        "!mv COVID-19-CT-Seg_20cases.zip?download=1 images.zip\n",
        "!mv Lung_and_Infection_Mask.zip?download=1 masks.zip\n",
        "\n",
        "# Extract the two zip files to its nifti files\n",
        "!unzip -uq \"images.zip\" -d \"images\"\n",
        "!unzip -uq \"masks.zip\" -d \"masks\"\n",
        "\n",
        "\n",
        "# Create temporal Directory 'DataSet' to save the images(png) and masks(png) in google server   \n",
        "!mkdir DataSet\n",
        "!mkdir DataSet/images \n",
        "!mkdir DataSet/masks\n"
      ],
      "execution_count": 0,
      "outputs": []
    },
    {
      "cell_type": "markdown",
      "metadata": {
        "id": "53Qmy2Esks5k",
        "colab_type": "text"
      },
      "source": [
        "## Load & Preprocess Data"
      ]
    },
    {
      "cell_type": "code",
      "metadata": {
        "id": "IU5dCMUJKFuc",
        "colab_type": "code",
        "colab": {}
      },
      "source": [
        "#=================================================================\n",
        "# Copy DataLoader.py file to temporary colab server to be able to import it \n",
        "! cp \"drive/My Drive/Project/DataLoader.py\" '.'\n",
        "! cp \"drive/My Drive/Project/function.py\" '.'\n",
        "! cp \"drive/My Drive/Project/DenseModel.py\" '.'\n",
        "\n",
        "\n",
        "\n",
        "\n",
        "#Import files, Dataloader, DenseModel, function \n",
        "from importlib import reload\n",
        "import DataLoader as ld\n",
        "from function import *\n",
        "import DenseModel \n",
        "ld = reload(ld)\n",
        "DenseModel= reload(DenseModel)\n",
        "# function = reload(function)\n",
        "\n",
        "\n"
      ],
      "execution_count": 0,
      "outputs": []
    },
    {
      "cell_type": "code",
      "metadata": {
        "id": "NaOlGz_weBoW",
        "colab_type": "code",
        "colab": {}
      },
      "source": [
        "\n",
        "# call nifToPng function which extract all the nifti files for images and masks and\n",
        "# apply preprocessing then save them in DataSet in the temporal google servers \n",
        "ld.nifToPng('images','masks');"
      ],
      "execution_count": 0,
      "outputs": []
    },
    {
      "cell_type": "markdown",
      "metadata": {
        "id": "zhC5-_7LfKfd",
        "colab_type": "text"
      },
      "source": [
        "## Copy Data To Drive.\n",
        "Data originaly is saved to temporal colab server not drive. \n",
        "then by running this code we copy it to drive to store it permenantly, run this process the first time you use the program then start moving it to colab whenever you need it  "
      ]
    },
    {
      "cell_type": "code",
      "metadata": {
        "id": "HhE8eECZfKBp",
        "colab_type": "code",
        "outputId": "5961cf73-ca7f-4cb2-cb6f-3bcf47e81d7f",
        "colab": {
          "base_uri": "https://localhost:8080/",
          "height": 90
        }
      },
      "source": [
        "# Do this if there is no data in drive \n",
        "#!mkdir 'drive/My Drive/Project/DataSet'\n",
        "# !cp -r 'DataSet/' 'drive/My Drive/Project'\n",
        "\n",
        "# check number of images and masks  in colab and drive \n",
        "print(len(os.listdir('drive/My Drive/Project/DataSet/images')))\n",
        "print(len(os.listdir('drive/My Drive/Project/DataSet/masks')))\n",
        "print(len(os.listdir('DataSet/masks')))\n",
        "print(len(os.listdir('DataSet/images')))\n"
      ],
      "execution_count": 6,
      "outputs": [
        {
          "output_type": "stream",
          "text": [
            "942\n",
            "1392\n",
            "3520\n",
            "3520\n"
          ],
          "name": "stdout"
        }
      ]
    },
    {
      "cell_type": "markdown",
      "metadata": {
        "id": "EzvjehemB8fM",
        "colab_type": "text"
      },
      "source": [
        "## Copy Data From Drive to Temporal colab google server. \n",
        "do this step if the temporal session of colab ends and the data is deleted"
      ]
    },
    {
      "cell_type": "code",
      "metadata": {
        "id": "8xAS3VOJB8Ip",
        "colab_type": "code",
        "colab": {}
      },
      "source": [
        "# when the session ends, all the data on colab server will be deleted. So we get the data from\n",
        "# the saved dataset in colab.  \n",
        "# To Copy data from drive to colab it takes som much time so  zip the folder in drive then copy it\n",
        "# to colab then unzip it \n",
        "\n",
        "!cp -r 'drive/My Drive/Project/Dataset.zip' '.'\n",
        "# unzip the file, change the file name to whatever the zip file name\n",
        "!unzip -uq \"Dataset.zip\" -d '.'\n",
        "\n",
        "\n"
      ],
      "execution_count": 0,
      "outputs": []
    },
    {
      "cell_type": "markdown",
      "metadata": {
        "id": "txTpjx4Ai2ke",
        "colab_type": "text"
      },
      "source": [
        "## **Train, Test, Validation** "
      ]
    },
    {
      "cell_type": "code",
      "metadata": {
        "id": "CIWeX7YHi2RG",
        "colab_type": "code",
        "outputId": "80237727-439b-4bbd-a235-9fa2c147e38e",
        "colab": {
          "base_uri": "https://localhost:8080/",
          "height": 90
        }
      },
      "source": [
        "# Call the splitData function which works on the \n",
        "# temporal google server where it is faster \n",
        "#! cp \"drive/My Drive/Project/DataLoader.py\" '.'\n",
        "X_train, X_tset, Y_train, Y_test, X_, X_val, Y_, Y_val,X = ld.splitData()"
      ],
      "execution_count": 7,
      "outputs": [
        {
          "output_type": "stream",
          "text": [
            "100%|██████████| 3520/3520 [00:03<00:00, 1005.86it/s]\n"
          ],
          "name": "stderr"
        },
        {
          "output_type": "stream",
          "text": [
            "\n",
            "Split Done..\n",
            "\n"
          ],
          "name": "stdout"
        }
      ]
    },
    {
      "cell_type": "markdown",
      "metadata": {
        "id": "12M3k6OW3Qvn",
        "colab_type": "text"
      },
      "source": [
        "##**Fully convolutional multi-scale residual DenseNets**"
      ]
    },
    {
      "cell_type": "code",
      "metadata": {
        "id": "ZKyQmhkh3SoS",
        "colab_type": "code",
        "colab": {}
      },
      "source": [
        "\n",
        "# Input & output \n",
        "IMG_Width  = 128\n",
        "IMG_Height = 128\n",
        "IMG_Channels = 1\n",
        "\n",
        "\n",
        "input=tf.keras.Input((IMG_Width,IMG_Height,IMG_Channels)) # this layer is in core layer of keras documentation\n",
        "model= DenseModel.dens_model(input)\n",
        "\n"
      ],
      "execution_count": 0,
      "outputs": []
    },
    {
      "cell_type": "code",
      "metadata": {
        "id": "cyIrv9BIZOOV",
        "colab_type": "code",
        "colab": {}
      },
      "source": [
        "# # ===============If you want to generate data by batches============================ \n",
        "# ! cp \"drive/My Drive/Project/DataGenerator.py\" '.'\n",
        "# from importlib import reload\n",
        "# import DataGenerator as gen\n",
        "# gen = reload(gen)\n",
        "# # Split DataSet folder to train, val \n",
        "# import split_folders\n",
        "# split_folders.ratio('DataSet/', output=\"DataSetGen/\", seed=1337, ratio=(.8, .1, .1)) # default values\n",
        "# # each iteration takes 110 images and masks and pass it to the model(Train) \n",
        "# trainGenerator = gen.GenerateBatches('DataSetGen/train', 'images','masks')\n",
        "# valGenerator = gen.GenerateBatches('DataSetGen/val', 'images','masks')\n",
        "# # Fit Generator with generator & Augmentation \n",
        "# historyGeneratorDense = model.fit_generator(generator=trainGenerator,\n",
        "#                                             validation_data=valGenerator,\n",
        "#                                             validation_steps = 100,\n",
        "#                                             epochs=100,\n",
        "#                                             steps_per_epoch=100)\n",
        "# # Save the model \n",
        "# model.save('drive/My Drive/Project/FinalDenseAug.h5')\n",
        "# np.save('drive/My Drive/Project/historyFinalDenseAug.npy',historyGeneratorDense.history)\n",
        "#==================================================================================\n",
        "# Fit the Dense Model withoud generator \n",
        "Callbacks=[tf.keras.callbacks.ModelCheckpoint(\"drive/My Drive/Project/dens.h5\"\n",
        ",verbose=1,save_best_only=True)]\n",
        " \n",
        "history = model.fit(\n",
        "   x=X_train,\n",
        "   y=Y_train,\n",
        "   batch_size=16,\n",
        "   epochs=100,\n",
        "   validation_data=(X_val, Y_val)\n",
        ")\n",
        " \n",
        "model.save('drive/My Drive/Project/FinalDenseDice.h5')\n",
        " \n",
        "np.save('drive/My Drive/Project/historyFinalDenseDice.npy',history.history)"
      ],
      "execution_count": 0,
      "outputs": []
    },
    {
      "cell_type": "markdown",
      "metadata": {
        "id": "lF2FahRfDMJL",
        "colab_type": "text"
      },
      "source": [
        "\n",
        "## **Build Pretrained Models**"
      ]
    },
    {
      "cell_type": "code",
      "metadata": {
        "id": "aGb4p3ecDLka",
        "colab_type": "code",
        "colab": {}
      },
      "source": [
        "# Copy Model.py file from drive to colab server \n",
        "! cp \"drive/My Drive/Project/Model.py\" '.'\n",
        "\n",
        "# Import the Model file , we added the reload package to update the changes auto from drive to colab \n",
        "from importlib import reload\n",
        "import Model as mdl\n",
        "mdl = reload(mdl)\n",
        "\n",
        "# Buid network, X is the input tensor\n",
        "mdl.Network(X)\n",
        "\n",
        "\n"
      ],
      "execution_count": 0,
      "outputs": []
    },
    {
      "cell_type": "code",
      "metadata": {
        "id": "XnrfM29XyAVg",
        "colab_type": "code",
        "colab": {}
      },
      "source": [
        "# Fit The pretrained model\n",
        "history, model = mdl.Fit(X_train, Y_train, X_val, Y_val)\n"
      ],
      "execution_count": 0,
      "outputs": []
    },
    {
      "cell_type": "markdown",
      "metadata": {
        "id": "BgLMXlTjPX54",
        "colab_type": "text"
      },
      "source": [
        "## **Load an existing model & history**\n",
        "Do this step if you have existing model"
      ]
    },
    {
      "cell_type": "code",
      "metadata": {
        "id": "R4zs_C-BPYkr",
        "colab_type": "code",
        "colab": {
          "base_uri": "https://localhost:8080/",
          "height": 1000
        },
        "outputId": "30b89c38-645f-4191-ac85-393dd0c91957"
      },
      "source": [
        "\n",
        "# Load PreTrainedModels\n",
        "\n",
        "# ===========Inception Net v2 , binary ce and Dice loss, IOU metrices====================\n",
        "inceptionModel = tf.keras.models.load_model('drive/My Drive/Project/Models/inceptionresnetv2.h5',compile=False)\n",
        "optim = keras.optimizers.Adam(lr=1e-3)\n",
        "\n",
        "inceptionModel.compile(\n",
        "    optim,\n",
        "    loss=sm.losses.bce_dice_loss,\n",
        "    metrics=[sm.metrics.iou_score],\n",
        ")   \n",
        "historyinceptionModel = np.load(\"drive/My Drive/Project/Models/historyinceptionresnetv2.npy\",allow_pickle=True).item()\n",
        "\n",
        "# ==============Basic u Net , binary ce and Dice loss, IOU metrices=========================\n",
        "unetModel = tf.keras.models.load_model('drive/My Drive/Project/Models/u_net_basic1.h5',compile=False)\n",
        "optim = keras.optimizers.Adam(lr=1e-3)\n",
        "\n",
        "unetModel.compile(\n",
        "    optim,\n",
        "    loss=sm.losses.bce_dice_loss,\n",
        "    metrics=[sm.metrics.iou_score],\n",
        ")   \n",
        "historyunetModelModel = np.load(\"drive/My Drive/Project/Models/historyunet.npy\",allow_pickle=True).item()\n",
        "\n",
        "# ============== densenet201, binary ce and Dice loss, IOU metrices =========================\n",
        "densenet201Model = tf.keras.models.load_model('drive/My Drive/Project/Models/Densenetb7.h5',compile=False)\n",
        "optim = keras.optimizers.Adam(lr=1e-3)\n",
        "\n",
        "densenet201Model.compile(\n",
        "    optim,\n",
        "    loss=sm.losses.bce_dice_loss,\n",
        "    metrics=[sm.metrics.iou_score],\n",
        ")   \n",
        "historydensenet201Model = np.load(\"drive/My Drive/Project/Models/historyDensenetb7.npy\",allow_pickle=True).item()\n",
        "\n",
        "\n",
        "\n",
        "#====================================Main Dense Model===========================================\n",
        "#========Load Final Dense model,ce loss, Dice coef metrices , optimised with Adam==============\n",
        "model = tf.keras.models.load_model('drive/My Drive/Project/Models/FinalDense.h5',compile=False)\n",
        "optim = keras.optimizers.Adam(lr=1e-3)\n",
        "\n",
        "    \n",
        "loss= tf.keras.losses.CategoricalCrossentropy(\n",
        "    from_logits=False,\n",
        "    label_smoothing=0,\n",
        "    reduction=\"auto\",\n",
        "    name=\"categorical_crossentropy\",\n",
        ")\n",
        "\n",
        "\n",
        "#model.compile(optim,loss=dice_loss ,metrics=[sm.metrics.f1_score]) dice loss \n",
        "model.compile(optim,loss=loss ,metrics=[sm.metrics.f1_score])\n",
        "model.summary()\n",
        "\n",
        "#History\n",
        "history = np.load(\"drive/My Drive/Project/Models/historyFinalDense.npy\",allow_pickle=True).item()\n",
        "\n",
        "# # Plot the model graph\n",
        "# tf.keras.utils.plot_model(\n",
        "#     model,\n",
        "#     to_file=\"drive/My Drive/Project/Models/model.png\",\n",
        "#     show_shapes=False,\n",
        "#     show_layer_names=True,\n",
        "#     rankdir=\"TB\",\n",
        "#     expand_nested=False,\n",
        "#     dpi=96,\n",
        "#)\n"
      ],
      "execution_count": 8,
      "outputs": [
        {
          "output_type": "stream",
          "text": [
            "Model: \"model\"\n",
            "__________________________________________________________________________________________________\n",
            "Layer (type)                    Output Shape         Param #     Connected to                     \n",
            "==================================================================================================\n",
            "input_3 (InputLayer)            [(None, 128, 128, 1) 0                                            \n",
            "__________________________________________________________________________________________________\n",
            "conv2d (Conv2D)                 (None, 128, 128, 12) 108         input_3[0][0]                    \n",
            "__________________________________________________________________________________________________\n",
            "conv2d_1 (Conv2D)               (None, 128, 128, 12) 300         input_3[0][0]                    \n",
            "__________________________________________________________________________________________________\n",
            "conv2d_2 (Conv2D)               (None, 128, 128, 12) 588         input_3[0][0]                    \n",
            "__________________________________________________________________________________________________\n",
            "concatenate (Concatenate)       (None, 128, 128, 36) 0           conv2d[0][0]                     \n",
            "                                                                 conv2d_1[0][0]                   \n",
            "                                                                 conv2d_2[0][0]                   \n",
            "__________________________________________________________________________________________________\n",
            "batch_normalization (BatchNorma (None, 128, 128, 36) 144         concatenate[0][0]                \n",
            "__________________________________________________________________________________________________\n",
            "activation (Activation)         (None, 128, 128, 36) 0           batch_normalization[0][0]        \n",
            "__________________________________________________________________________________________________\n",
            "conv2d_3 (Conv2D)               (None, 128, 128, 12) 3888        activation[0][0]                 \n",
            "__________________________________________________________________________________________________\n",
            "dropout (Dropout)               (None, 128, 128, 12) 0           conv2d_3[0][0]                   \n",
            "__________________________________________________________________________________________________\n",
            "concatenate_1 (Concatenate)     (None, 128, 128, 48) 0           concatenate[0][0]                \n",
            "                                                                 dropout[0][0]                    \n",
            "__________________________________________________________________________________________________\n",
            "batch_normalization_1 (BatchNor (None, 128, 128, 48) 192         concatenate_1[0][0]              \n",
            "__________________________________________________________________________________________________\n",
            "activation_1 (Activation)       (None, 128, 128, 48) 0           batch_normalization_1[0][0]      \n",
            "__________________________________________________________________________________________________\n",
            "conv2d_4 (Conv2D)               (None, 128, 128, 12) 5184        activation_1[0][0]               \n",
            "__________________________________________________________________________________________________\n",
            "dropout_1 (Dropout)             (None, 128, 128, 12) 0           conv2d_4[0][0]                   \n",
            "__________________________________________________________________________________________________\n",
            "concatenate_2 (Concatenate)     (None, 128, 128, 60) 0           concatenate_1[0][0]              \n",
            "                                                                 dropout_1[0][0]                  \n",
            "__________________________________________________________________________________________________\n",
            "batch_normalization_3 (BatchNor (None, 128, 128, 60) 240         concatenate_2[0][0]              \n",
            "__________________________________________________________________________________________________\n",
            "activation_3 (Activation)       (None, 128, 128, 60) 0           batch_normalization_3[0][0]      \n",
            "__________________________________________________________________________________________________\n",
            "conv2d_6 (Conv2D)               (None, 128, 128, 60) 32400       activation_3[0][0]               \n",
            "__________________________________________________________________________________________________\n",
            "dropout_3 (Dropout)             (None, 128, 128, 60) 0           conv2d_6[0][0]                   \n",
            "__________________________________________________________________________________________________\n",
            "max_pooling2d (MaxPooling2D)    (None, 64, 64, 60)   0           dropout_3[0][0]                  \n",
            "__________________________________________________________________________________________________\n",
            "batch_normalization_4 (BatchNor (None, 64, 64, 60)   240         max_pooling2d[0][0]              \n",
            "__________________________________________________________________________________________________\n",
            "activation_4 (Activation)       (None, 64, 64, 60)   0           batch_normalization_4[0][0]      \n",
            "__________________________________________________________________________________________________\n",
            "conv2d_7 (Conv2D)               (None, 64, 64, 12)   6480        activation_4[0][0]               \n",
            "__________________________________________________________________________________________________\n",
            "dropout_4 (Dropout)             (None, 64, 64, 12)   0           conv2d_7[0][0]                   \n",
            "__________________________________________________________________________________________________\n",
            "concatenate_3 (Concatenate)     (None, 64, 64, 72)   0           max_pooling2d[0][0]              \n",
            "                                                                 dropout_4[0][0]                  \n",
            "__________________________________________________________________________________________________\n",
            "batch_normalization_5 (BatchNor (None, 64, 64, 72)   288         concatenate_3[0][0]              \n",
            "__________________________________________________________________________________________________\n",
            "activation_5 (Activation)       (None, 64, 64, 72)   0           batch_normalization_5[0][0]      \n",
            "__________________________________________________________________________________________________\n",
            "conv2d_8 (Conv2D)               (None, 64, 64, 12)   7776        activation_5[0][0]               \n",
            "__________________________________________________________________________________________________\n",
            "dropout_5 (Dropout)             (None, 64, 64, 12)   0           conv2d_8[0][0]                   \n",
            "__________________________________________________________________________________________________\n",
            "concatenate_4 (Concatenate)     (None, 64, 64, 84)   0           concatenate_3[0][0]              \n",
            "                                                                 dropout_5[0][0]                  \n",
            "__________________________________________________________________________________________________\n",
            "batch_normalization_6 (BatchNor (None, 64, 64, 84)   336         concatenate_4[0][0]              \n",
            "__________________________________________________________________________________________________\n",
            "activation_6 (Activation)       (None, 64, 64, 84)   0           batch_normalization_6[0][0]      \n",
            "__________________________________________________________________________________________________\n",
            "conv2d_9 (Conv2D)               (None, 64, 64, 12)   9072        activation_6[0][0]               \n",
            "__________________________________________________________________________________________________\n",
            "dropout_6 (Dropout)             (None, 64, 64, 12)   0           conv2d_9[0][0]                   \n",
            "__________________________________________________________________________________________________\n",
            "concatenate_5 (Concatenate)     (None, 64, 64, 96)   0           concatenate_4[0][0]              \n",
            "                                                                 dropout_6[0][0]                  \n",
            "__________________________________________________________________________________________________\n",
            "batch_normalization_8 (BatchNor (None, 64, 64, 96)   384         concatenate_5[0][0]              \n",
            "__________________________________________________________________________________________________\n",
            "activation_8 (Activation)       (None, 64, 64, 96)   0           batch_normalization_8[0][0]      \n",
            "__________________________________________________________________________________________________\n",
            "conv2d_11 (Conv2D)              (None, 64, 64, 96)   82944       activation_8[0][0]               \n",
            "__________________________________________________________________________________________________\n",
            "dropout_8 (Dropout)             (None, 64, 64, 96)   0           conv2d_11[0][0]                  \n",
            "__________________________________________________________________________________________________\n",
            "max_pooling2d_1 (MaxPooling2D)  (None, 32, 32, 96)   0           dropout_8[0][0]                  \n",
            "__________________________________________________________________________________________________\n",
            "batch_normalization_9 (BatchNor (None, 32, 32, 96)   384         max_pooling2d_1[0][0]            \n",
            "__________________________________________________________________________________________________\n",
            "activation_9 (Activation)       (None, 32, 32, 96)   0           batch_normalization_9[0][0]      \n",
            "__________________________________________________________________________________________________\n",
            "conv2d_12 (Conv2D)              (None, 32, 32, 12)   10368       activation_9[0][0]               \n",
            "__________________________________________________________________________________________________\n",
            "dropout_9 (Dropout)             (None, 32, 32, 12)   0           conv2d_12[0][0]                  \n",
            "__________________________________________________________________________________________________\n",
            "concatenate_6 (Concatenate)     (None, 32, 32, 108)  0           max_pooling2d_1[0][0]            \n",
            "                                                                 dropout_9[0][0]                  \n",
            "__________________________________________________________________________________________________\n",
            "batch_normalization_10 (BatchNo (None, 32, 32, 108)  432         concatenate_6[0][0]              \n",
            "__________________________________________________________________________________________________\n",
            "activation_10 (Activation)      (None, 32, 32, 108)  0           batch_normalization_10[0][0]     \n",
            "__________________________________________________________________________________________________\n",
            "conv2d_13 (Conv2D)              (None, 32, 32, 12)   11664       activation_10[0][0]              \n",
            "__________________________________________________________________________________________________\n",
            "dropout_10 (Dropout)            (None, 32, 32, 12)   0           conv2d_13[0][0]                  \n",
            "__________________________________________________________________________________________________\n",
            "concatenate_7 (Concatenate)     (None, 32, 32, 120)  0           concatenate_6[0][0]              \n",
            "                                                                 dropout_10[0][0]                 \n",
            "__________________________________________________________________________________________________\n",
            "batch_normalization_11 (BatchNo (None, 32, 32, 120)  480         concatenate_7[0][0]              \n",
            "__________________________________________________________________________________________________\n",
            "activation_11 (Activation)      (None, 32, 32, 120)  0           batch_normalization_11[0][0]     \n",
            "__________________________________________________________________________________________________\n",
            "conv2d_14 (Conv2D)              (None, 32, 32, 12)   12960       activation_11[0][0]              \n",
            "__________________________________________________________________________________________________\n",
            "dropout_11 (Dropout)            (None, 32, 32, 12)   0           conv2d_14[0][0]                  \n",
            "__________________________________________________________________________________________________\n",
            "concatenate_8 (Concatenate)     (None, 32, 32, 132)  0           concatenate_7[0][0]              \n",
            "                                                                 dropout_11[0][0]                 \n",
            "__________________________________________________________________________________________________\n",
            "batch_normalization_12 (BatchNo (None, 32, 32, 132)  528         concatenate_8[0][0]              \n",
            "__________________________________________________________________________________________________\n",
            "activation_12 (Activation)      (None, 32, 32, 132)  0           batch_normalization_12[0][0]     \n",
            "__________________________________________________________________________________________________\n",
            "conv2d_15 (Conv2D)              (None, 32, 32, 12)   14256       activation_12[0][0]              \n",
            "__________________________________________________________________________________________________\n",
            "dropout_12 (Dropout)            (None, 32, 32, 12)   0           conv2d_15[0][0]                  \n",
            "__________________________________________________________________________________________________\n",
            "concatenate_9 (Concatenate)     (None, 32, 32, 144)  0           concatenate_8[0][0]              \n",
            "                                                                 dropout_12[0][0]                 \n",
            "__________________________________________________________________________________________________\n",
            "batch_normalization_14 (BatchNo (None, 32, 32, 144)  576         concatenate_9[0][0]              \n",
            "__________________________________________________________________________________________________\n",
            "activation_14 (Activation)      (None, 32, 32, 144)  0           batch_normalization_14[0][0]     \n",
            "__________________________________________________________________________________________________\n",
            "conv2d_17 (Conv2D)              (None, 32, 32, 144)  186624      activation_14[0][0]              \n",
            "__________________________________________________________________________________________________\n",
            "dropout_14 (Dropout)            (None, 32, 32, 144)  0           conv2d_17[0][0]                  \n",
            "__________________________________________________________________________________________________\n",
            "max_pooling2d_2 (MaxPooling2D)  (None, 16, 16, 144)  0           dropout_14[0][0]                 \n",
            "__________________________________________________________________________________________________\n",
            "batch_normalization_16 (BatchNo (None, 16, 16, 144)  576         max_pooling2d_2[0][0]            \n",
            "__________________________________________________________________________________________________\n",
            "activation_16 (Activation)      (None, 16, 16, 144)  0           batch_normalization_16[0][0]     \n",
            "__________________________________________________________________________________________________\n",
            "conv2d_19 (Conv2D)              (None, 16, 16, 12)   15552       activation_16[0][0]              \n",
            "__________________________________________________________________________________________________\n",
            "dropout_16 (Dropout)            (None, 16, 16, 12)   0           conv2d_19[0][0]                  \n",
            "__________________________________________________________________________________________________\n",
            "concatenate_10 (Concatenate)    (None, 16, 16, 156)  0           max_pooling2d_2[0][0]            \n",
            "                                                                 dropout_16[0][0]                 \n",
            "__________________________________________________________________________________________________\n",
            "batch_normalization_17 (BatchNo (None, 16, 16, 156)  624         concatenate_10[0][0]             \n",
            "__________________________________________________________________________________________________\n",
            "activation_17 (Activation)      (None, 16, 16, 156)  0           batch_normalization_17[0][0]     \n",
            "__________________________________________________________________________________________________\n",
            "conv2d_20 (Conv2D)              (None, 16, 16, 12)   16848       activation_17[0][0]              \n",
            "__________________________________________________________________________________________________\n",
            "dropout_17 (Dropout)            (None, 16, 16, 12)   0           conv2d_20[0][0]                  \n",
            "__________________________________________________________________________________________________\n",
            "concatenate_11 (Concatenate)    (None, 16, 16, 168)  0           concatenate_10[0][0]             \n",
            "                                                                 dropout_17[0][0]                 \n",
            "__________________________________________________________________________________________________\n",
            "batch_normalization_18 (BatchNo (None, 16, 16, 168)  672         concatenate_11[0][0]             \n",
            "__________________________________________________________________________________________________\n",
            "activation_18 (Activation)      (None, 16, 16, 168)  0           batch_normalization_18[0][0]     \n",
            "__________________________________________________________________________________________________\n",
            "conv2d_21 (Conv2D)              (None, 16, 16, 12)   18144       activation_18[0][0]              \n",
            "__________________________________________________________________________________________________\n",
            "dropout_18 (Dropout)            (None, 16, 16, 12)   0           conv2d_21[0][0]                  \n",
            "__________________________________________________________________________________________________\n",
            "concatenate_12 (Concatenate)    (None, 16, 16, 180)  0           concatenate_11[0][0]             \n",
            "                                                                 dropout_18[0][0]                 \n",
            "__________________________________________________________________________________________________\n",
            "batch_normalization_19 (BatchNo (None, 16, 16, 180)  720         concatenate_12[0][0]             \n",
            "__________________________________________________________________________________________________\n",
            "activation_19 (Activation)      (None, 16, 16, 180)  0           batch_normalization_19[0][0]     \n",
            "__________________________________________________________________________________________________\n",
            "conv2d_22 (Conv2D)              (None, 16, 16, 12)   19440       activation_19[0][0]              \n",
            "__________________________________________________________________________________________________\n",
            "dropout_19 (Dropout)            (None, 16, 16, 12)   0           conv2d_22[0][0]                  \n",
            "__________________________________________________________________________________________________\n",
            "concatenate_13 (Concatenate)    (None, 16, 16, 192)  0           concatenate_12[0][0]             \n",
            "                                                                 dropout_19[0][0]                 \n",
            "__________________________________________________________________________________________________\n",
            "batch_normalization_20 (BatchNo (None, 16, 16, 192)  768         concatenate_13[0][0]             \n",
            "__________________________________________________________________________________________________\n",
            "activation_20 (Activation)      (None, 16, 16, 192)  0           batch_normalization_20[0][0]     \n",
            "__________________________________________________________________________________________________\n",
            "batch_normalization_15 (BatchNo (None, 16, 16, 144)  576         max_pooling2d_2[0][0]            \n",
            "__________________________________________________________________________________________________\n",
            "conv2d_23 (Conv2D)              (None, 16, 16, 12)   20736       activation_20[0][0]              \n",
            "__________________________________________________________________________________________________\n",
            "activation_15 (Activation)      (None, 16, 16, 144)  0           batch_normalization_15[0][0]     \n",
            "__________________________________________________________________________________________________\n",
            "dropout_20 (Dropout)            (None, 16, 16, 12)   0           conv2d_23[0][0]                  \n",
            "__________________________________________________________________________________________________\n",
            "conv2d_18 (Conv2D)              (None, 16, 16, 60)   77760       activation_15[0][0]              \n",
            "__________________________________________________________________________________________________\n",
            "batch_normalization_13 (BatchNo (None, 32, 32, 144)  576         concatenate_9[0][0]              \n",
            "__________________________________________________________________________________________________\n",
            "concatenate_15 (Concatenate)    (None, 16, 16, 60)   0           dropout_16[0][0]                 \n",
            "                                                                 dropout_17[0][0]                 \n",
            "                                                                 dropout_18[0][0]                 \n",
            "                                                                 dropout_19[0][0]                 \n",
            "                                                                 dropout_20[0][0]                 \n",
            "__________________________________________________________________________________________________\n",
            "dropout_15 (Dropout)            (None, 16, 16, 60)   0           conv2d_18[0][0]                  \n",
            "__________________________________________________________________________________________________\n",
            "activation_13 (Activation)      (None, 32, 32, 144)  0           batch_normalization_13[0][0]     \n",
            "__________________________________________________________________________________________________\n",
            "tf_op_layer_Add (TensorFlowOpLa (None, 16, 16, 60)   0           concatenate_15[0][0]             \n",
            "                                                                 dropout_15[0][0]                 \n",
            "__________________________________________________________________________________________________\n",
            "conv2d_16 (Conv2D)              (None, 32, 32, 60)   77760       activation_13[0][0]              \n",
            "__________________________________________________________________________________________________\n",
            "conv2d_transpose (Conv2DTranspo (None, 32, 32, 60)   32460       tf_op_layer_Add[0][0]            \n",
            "__________________________________________________________________________________________________\n",
            "dropout_13 (Dropout)            (None, 32, 32, 60)   0           conv2d_16[0][0]                  \n",
            "__________________________________________________________________________________________________\n",
            "tf_op_layer_Add_1 (TensorFlowOp (None, 32, 32, 60)   0           conv2d_transpose[0][0]           \n",
            "                                                                 dropout_13[0][0]                 \n",
            "__________________________________________________________________________________________________\n",
            "batch_normalization_22 (BatchNo (None, 32, 32, 60)   240         tf_op_layer_Add_1[0][0]          \n",
            "__________________________________________________________________________________________________\n",
            "activation_22 (Activation)      (None, 32, 32, 60)   0           batch_normalization_22[0][0]     \n",
            "__________________________________________________________________________________________________\n",
            "conv2d_25 (Conv2D)              (None, 32, 32, 12)   6480        activation_22[0][0]              \n",
            "__________________________________________________________________________________________________\n",
            "dropout_22 (Dropout)            (None, 32, 32, 12)   0           conv2d_25[0][0]                  \n",
            "__________________________________________________________________________________________________\n",
            "concatenate_16 (Concatenate)    (None, 32, 32, 72)   0           tf_op_layer_Add_1[0][0]          \n",
            "                                                                 dropout_22[0][0]                 \n",
            "__________________________________________________________________________________________________\n",
            "batch_normalization_23 (BatchNo (None, 32, 32, 72)   288         concatenate_16[0][0]             \n",
            "__________________________________________________________________________________________________\n",
            "activation_23 (Activation)      (None, 32, 32, 72)   0           batch_normalization_23[0][0]     \n",
            "__________________________________________________________________________________________________\n",
            "conv2d_26 (Conv2D)              (None, 32, 32, 12)   7776        activation_23[0][0]              \n",
            "__________________________________________________________________________________________________\n",
            "dropout_23 (Dropout)            (None, 32, 32, 12)   0           conv2d_26[0][0]                  \n",
            "__________________________________________________________________________________________________\n",
            "concatenate_17 (Concatenate)    (None, 32, 32, 84)   0           concatenate_16[0][0]             \n",
            "                                                                 dropout_23[0][0]                 \n",
            "__________________________________________________________________________________________________\n",
            "batch_normalization_24 (BatchNo (None, 32, 32, 84)   336         concatenate_17[0][0]             \n",
            "__________________________________________________________________________________________________\n",
            "activation_24 (Activation)      (None, 32, 32, 84)   0           batch_normalization_24[0][0]     \n",
            "__________________________________________________________________________________________________\n",
            "conv2d_27 (Conv2D)              (None, 32, 32, 12)   9072        activation_24[0][0]              \n",
            "__________________________________________________________________________________________________\n",
            "dropout_24 (Dropout)            (None, 32, 32, 12)   0           conv2d_27[0][0]                  \n",
            "__________________________________________________________________________________________________\n",
            "concatenate_18 (Concatenate)    (None, 32, 32, 96)   0           concatenate_17[0][0]             \n",
            "                                                                 dropout_24[0][0]                 \n",
            "__________________________________________________________________________________________________\n",
            "batch_normalization_25 (BatchNo (None, 32, 32, 96)   384         concatenate_18[0][0]             \n",
            "__________________________________________________________________________________________________\n",
            "activation_25 (Activation)      (None, 32, 32, 96)   0           batch_normalization_25[0][0]     \n",
            "__________________________________________________________________________________________________\n",
            "batch_normalization_21 (BatchNo (None, 32, 32, 60)   240         tf_op_layer_Add_1[0][0]          \n",
            "__________________________________________________________________________________________________\n",
            "conv2d_28 (Conv2D)              (None, 32, 32, 12)   10368       activation_25[0][0]              \n",
            "__________________________________________________________________________________________________\n",
            "activation_21 (Activation)      (None, 32, 32, 60)   0           batch_normalization_21[0][0]     \n",
            "__________________________________________________________________________________________________\n",
            "dropout_25 (Dropout)            (None, 32, 32, 12)   0           conv2d_28[0][0]                  \n",
            "__________________________________________________________________________________________________\n",
            "conv2d_24 (Conv2D)              (None, 32, 32, 48)   25920       activation_21[0][0]              \n",
            "__________________________________________________________________________________________________\n",
            "batch_normalization_7 (BatchNor (None, 64, 64, 96)   384         concatenate_5[0][0]              \n",
            "__________________________________________________________________________________________________\n",
            "concatenate_20 (Concatenate)    (None, 32, 32, 48)   0           dropout_22[0][0]                 \n",
            "                                                                 dropout_23[0][0]                 \n",
            "                                                                 dropout_24[0][0]                 \n",
            "                                                                 dropout_25[0][0]                 \n",
            "__________________________________________________________________________________________________\n",
            "dropout_21 (Dropout)            (None, 32, 32, 48)   0           conv2d_24[0][0]                  \n",
            "__________________________________________________________________________________________________\n",
            "activation_7 (Activation)       (None, 64, 64, 96)   0           batch_normalization_7[0][0]      \n",
            "__________________________________________________________________________________________________\n",
            "tf_op_layer_Add_2 (TensorFlowOp (None, 32, 32, 48)   0           concatenate_20[0][0]             \n",
            "                                                                 dropout_21[0][0]                 \n",
            "__________________________________________________________________________________________________\n",
            "conv2d_10 (Conv2D)              (None, 64, 64, 48)   41472       activation_7[0][0]               \n",
            "__________________________________________________________________________________________________\n",
            "conv2d_transpose_1 (Conv2DTrans (None, 64, 64, 48)   20784       tf_op_layer_Add_2[0][0]          \n",
            "__________________________________________________________________________________________________\n",
            "dropout_7 (Dropout)             (None, 64, 64, 48)   0           conv2d_10[0][0]                  \n",
            "__________________________________________________________________________________________________\n",
            "tf_op_layer_Add_3 (TensorFlowOp (None, 64, 64, 48)   0           conv2d_transpose_1[0][0]         \n",
            "                                                                 dropout_7[0][0]                  \n",
            "__________________________________________________________________________________________________\n",
            "batch_normalization_27 (BatchNo (None, 64, 64, 48)   192         tf_op_layer_Add_3[0][0]          \n",
            "__________________________________________________________________________________________________\n",
            "activation_27 (Activation)      (None, 64, 64, 48)   0           batch_normalization_27[0][0]     \n",
            "__________________________________________________________________________________________________\n",
            "conv2d_30 (Conv2D)              (None, 64, 64, 12)   5184        activation_27[0][0]              \n",
            "__________________________________________________________________________________________________\n",
            "dropout_27 (Dropout)            (None, 64, 64, 12)   0           conv2d_30[0][0]                  \n",
            "__________________________________________________________________________________________________\n",
            "concatenate_21 (Concatenate)    (None, 64, 64, 60)   0           tf_op_layer_Add_3[0][0]          \n",
            "                                                                 dropout_27[0][0]                 \n",
            "__________________________________________________________________________________________________\n",
            "batch_normalization_28 (BatchNo (None, 64, 64, 60)   240         concatenate_21[0][0]             \n",
            "__________________________________________________________________________________________________\n",
            "activation_28 (Activation)      (None, 64, 64, 60)   0           batch_normalization_28[0][0]     \n",
            "__________________________________________________________________________________________________\n",
            "conv2d_31 (Conv2D)              (None, 64, 64, 12)   6480        activation_28[0][0]              \n",
            "__________________________________________________________________________________________________\n",
            "dropout_28 (Dropout)            (None, 64, 64, 12)   0           conv2d_31[0][0]                  \n",
            "__________________________________________________________________________________________________\n",
            "concatenate_22 (Concatenate)    (None, 64, 64, 72)   0           concatenate_21[0][0]             \n",
            "                                                                 dropout_28[0][0]                 \n",
            "__________________________________________________________________________________________________\n",
            "batch_normalization_29 (BatchNo (None, 64, 64, 72)   288         concatenate_22[0][0]             \n",
            "__________________________________________________________________________________________________\n",
            "activation_29 (Activation)      (None, 64, 64, 72)   0           batch_normalization_29[0][0]     \n",
            "__________________________________________________________________________________________________\n",
            "batch_normalization_26 (BatchNo (None, 64, 64, 48)   192         tf_op_layer_Add_3[0][0]          \n",
            "__________________________________________________________________________________________________\n",
            "conv2d_32 (Conv2D)              (None, 64, 64, 12)   7776        activation_29[0][0]              \n",
            "__________________________________________________________________________________________________\n",
            "activation_26 (Activation)      (None, 64, 64, 48)   0           batch_normalization_26[0][0]     \n",
            "__________________________________________________________________________________________________\n",
            "dropout_29 (Dropout)            (None, 64, 64, 12)   0           conv2d_32[0][0]                  \n",
            "__________________________________________________________________________________________________\n",
            "conv2d_29 (Conv2D)              (None, 64, 64, 36)   15552       activation_26[0][0]              \n",
            "__________________________________________________________________________________________________\n",
            "batch_normalization_2 (BatchNor (None, 128, 128, 60) 240         concatenate_2[0][0]              \n",
            "__________________________________________________________________________________________________\n",
            "concatenate_24 (Concatenate)    (None, 64, 64, 36)   0           dropout_27[0][0]                 \n",
            "                                                                 dropout_28[0][0]                 \n",
            "                                                                 dropout_29[0][0]                 \n",
            "__________________________________________________________________________________________________\n",
            "dropout_26 (Dropout)            (None, 64, 64, 36)   0           conv2d_29[0][0]                  \n",
            "__________________________________________________________________________________________________\n",
            "activation_2 (Activation)       (None, 128, 128, 60) 0           batch_normalization_2[0][0]      \n",
            "__________________________________________________________________________________________________\n",
            "tf_op_layer_Add_4 (TensorFlowOp (None, 64, 64, 36)   0           concatenate_24[0][0]             \n",
            "                                                                 dropout_26[0][0]                 \n",
            "__________________________________________________________________________________________________\n",
            "conv2d_5 (Conv2D)               (None, 128, 128, 36) 19440       activation_2[0][0]               \n",
            "__________________________________________________________________________________________________\n",
            "conv2d_transpose_2 (Conv2DTrans (None, 128, 128, 36) 11700       tf_op_layer_Add_4[0][0]          \n",
            "__________________________________________________________________________________________________\n",
            "dropout_2 (Dropout)             (None, 128, 128, 36) 0           conv2d_5[0][0]                   \n",
            "__________________________________________________________________________________________________\n",
            "tf_op_layer_Add_5 (TensorFlowOp (None, 128, 128, 36) 0           conv2d_transpose_2[0][0]         \n",
            "                                                                 dropout_2[0][0]                  \n",
            "__________________________________________________________________________________________________\n",
            "batch_normalization_31 (BatchNo (None, 128, 128, 36) 144         tf_op_layer_Add_5[0][0]          \n",
            "__________________________________________________________________________________________________\n",
            "activation_31 (Activation)      (None, 128, 128, 36) 0           batch_normalization_31[0][0]     \n",
            "__________________________________________________________________________________________________\n",
            "conv2d_34 (Conv2D)              (None, 128, 128, 12) 3888        activation_31[0][0]              \n",
            "__________________________________________________________________________________________________\n",
            "dropout_31 (Dropout)            (None, 128, 128, 12) 0           conv2d_34[0][0]                  \n",
            "__________________________________________________________________________________________________\n",
            "concatenate_25 (Concatenate)    (None, 128, 128, 48) 0           tf_op_layer_Add_5[0][0]          \n",
            "                                                                 dropout_31[0][0]                 \n",
            "__________________________________________________________________________________________________\n",
            "batch_normalization_32 (BatchNo (None, 128, 128, 48) 192         concatenate_25[0][0]             \n",
            "__________________________________________________________________________________________________\n",
            "activation_32 (Activation)      (None, 128, 128, 48) 0           batch_normalization_32[0][0]     \n",
            "__________________________________________________________________________________________________\n",
            "batch_normalization_30 (BatchNo (None, 128, 128, 36) 144         tf_op_layer_Add_5[0][0]          \n",
            "__________________________________________________________________________________________________\n",
            "conv2d_35 (Conv2D)              (None, 128, 128, 12) 5184        activation_32[0][0]              \n",
            "__________________________________________________________________________________________________\n",
            "activation_30 (Activation)      (None, 128, 128, 36) 0           batch_normalization_30[0][0]     \n",
            "__________________________________________________________________________________________________\n",
            "dropout_32 (Dropout)            (None, 128, 128, 12) 0           conv2d_35[0][0]                  \n",
            "__________________________________________________________________________________________________\n",
            "conv2d_33 (Conv2D)              (None, 128, 128, 24) 7776        activation_30[0][0]              \n",
            "__________________________________________________________________________________________________\n",
            "concatenate_27 (Concatenate)    (None, 128, 128, 24) 0           dropout_31[0][0]                 \n",
            "                                                                 dropout_32[0][0]                 \n",
            "__________________________________________________________________________________________________\n",
            "dropout_30 (Dropout)            (None, 128, 128, 24) 0           conv2d_33[0][0]                  \n",
            "__________________________________________________________________________________________________\n",
            "tf_op_layer_Add_6 (TensorFlowOp (None, 128, 128, 24) 0           concatenate_27[0][0]             \n",
            "                                                                 dropout_30[0][0]                 \n",
            "__________________________________________________________________________________________________\n",
            "conv2d_36 (Conv2D)              (None, 128, 128, 4)  96          tf_op_layer_Add_6[0][0]          \n",
            "__________________________________________________________________________________________________\n",
            "activation_33 (Activation)      (None, 128, 128, 4)  0           conv2d_36[0][0]                  \n",
            "==================================================================================================\n",
            "Total params: 880,500\n",
            "Trainable params: 874,380\n",
            "Non-trainable params: 6,120\n",
            "__________________________________________________________________________________________________\n"
          ],
          "name": "stdout"
        }
      ]
    },
    {
      "cell_type": "code",
      "metadata": {
        "id": "MokndEaNaBFH",
        "colab_type": "code",
        "colab": {}
      },
      "source": [
        ""
      ],
      "execution_count": 0,
      "outputs": []
    },
    {
      "cell_type": "markdown",
      "metadata": {
        "id": "uW-t8KOco3dd",
        "colab_type": "text"
      },
      "source": [
        "## **Metrices**\n"
      ]
    },
    {
      "cell_type": "code",
      "metadata": {
        "id": "0fwAAiOEo4C8",
        "colab_type": "code",
        "outputId": "2d7f16b6-8f11-47e0-de48-32cda7f42f1e",
        "colab": {
          "base_uri": "https://localhost:8080/",
          "height": 258
        }
      },
      "source": [
        "\n",
        "! cp \"drive/My Drive/Project/Metrices.py\" '.'\n",
        "\n",
        "from importlib import reload\n",
        "import Metrices as met\n",
        "met = reload(met)\n",
        "print(history )\n",
        "# Plot Accuracy & Loss DICE(F1 score) \n",
        "met.showLossAccu(history)\n",
        "\n"
      ],
      "execution_count": 9,
      "outputs": [
        {
          "output_type": "stream",
          "text": [
            "{'loss': [0.02529306523501873, 0.024661840870976448, 0.023453081026673317, 0.02387257292866707, 0.022880012169480324, 0.02175295352935791, 0.021329941228032112, 0.020206637680530548, 0.020198596641421318, 0.01992981508374214, 0.01946214586496353, 0.019244734197854996, 0.01825682260096073, 0.018080413341522217, 0.018513627350330353, 0.017623892053961754, 0.017250128090381622, 0.016868412494659424, 0.016474071890115738, 0.017015600576996803, 0.016299493610858917, 0.01668645441532135, 0.01580459624528885, 0.016274919733405113, 0.01610506884753704, 0.015203336253762245, 0.015295019373297691, 0.014944732189178467, 0.014489922672510147, 0.014720060862600803, 0.014813151210546494, 0.014590919949114323, 0.014328890480101109, 0.013975429348647594, 0.014021876268088818, 0.013698718510568142, 0.013650786131620407, 0.014753648079931736, 0.013650882057845592, 0.01338555570691824, 0.013162652030587196, 0.01291178073734045, 0.013639750890433788, 0.01361332181841135, 0.012978150509297848, 0.012613353319466114, 0.020264577120542526, 0.01370178535580635, 0.013144394382834435, 0.012742355465888977, 0.01258025411516428, 0.012342198751866817, 0.012239372357726097, 0.012241543270647526, 0.012064733542501926, 0.012001684866845608, 0.011977964080870152, 0.012028965167701244, 0.014881364069879055, 0.012249160557985306, 0.011783449910581112, 0.011646184138953686, 0.011787679977715015, 0.011764469556510448, 0.011565003544092178, 0.011506146751344204, 0.011423974297940731, 0.011584023013710976, 0.01140984520316124, 0.011330202221870422, 0.011336478404700756, 0.01152725238353014, 0.01116205845028162, 0.011208727024495602, 0.011172390542924404, 0.011282604187726974, 0.01115675363689661, 0.011019313707947731, 0.010997322387993336, 0.010925726033747196, 0.010722236707806587, 0.01105572935193777, 0.011035602539777756, 0.01123644970357418, 0.011613789014518261, 0.01083795353770256, 0.010624153539538383, 0.01191355288028717, 0.0106984693557024, 0.010453403927385807, 0.010391280055046082, 0.010354174301028252, 0.01036133524030447, 0.010278486646711826, 0.010556131601333618, 0.010479514487087727, 0.010312928818166256, 0.010213898494839668, 0.014055191539227962, 0.011316802352666855], 'f1-score': [0.8307487964630127, 0.8363479971885681, 0.8435266017913818, 0.8416734933853149, 0.8461911678314209, 0.8527067303657532, 0.8529355525970459, 0.8625124096870422, 0.8652822375297546, 0.86423659324646, 0.8660842776298523, 0.867553174495697, 0.875754177570343, 0.8755597472190857, 0.8723318576812744, 0.8778434991836548, 0.8811622262001038, 0.8818175792694092, 0.8866260051727295, 0.8798843622207642, 0.8856998085975647, 0.8817997574806213, 0.8898441791534424, 0.8895043730735779, 0.8886222839355469, 0.8932268619537354, 0.8906726837158203, 0.8933194875717163, 0.8976228833198547, 0.8928985595703125, 0.8965232372283936, 0.8966016173362732, 0.8989444375038147, 0.9018189907073975, 0.9007869362831116, 0.9018552303314209, 0.9032296538352966, 0.895367443561554, 0.8993285894393921, 0.9041092395782471, 0.9050865769386292, 0.9088279604911804, 0.9036845564842224, 0.9032997488975525, 0.9070009589195251, 0.9096889495849609, 0.8634719252586365, 0.9027948975563049, 0.9050832390785217, 0.9076696038246155, 0.9088656902313232, 0.911375105381012, 0.9140499234199524, 0.9096895456314087, 0.9139781594276428, 0.9130634665489197, 0.9129992127418518, 0.9126586318016052, 0.8948514461517334, 0.9120960235595703, 0.9149501323699951, 0.9160400032997131, 0.9152055382728577, 0.9149937033653259, 0.9165401458740234, 0.9156972765922546, 0.9177134037017822, 0.917201042175293, 0.9158040881156921, 0.9187408089637756, 0.917048454284668, 0.9136980175971985, 0.9196735620498657, 0.9186437726020813, 0.9181768894195557, 0.9184054732322693, 0.9190318584442139, 0.9188005924224854, 0.9211211800575256, 0.9201785922050476, 0.9199586510658264, 0.9195201396942139, 0.9185163378715515, 0.9166845679283142, 0.9161245822906494, 0.9214792847633362, 0.921861469745636, 0.9124082326889038, 0.9208536148071289, 0.9243794083595276, 0.9238021969795227, 0.9234200119972229, 0.9242129921913147, 0.9253496527671814, 0.9214227199554443, 0.9236499667167664, 0.9239353537559509, 0.9251351952552795, 0.9058282375335693, 0.9156242609024048], 'val_loss': [0.028805213049054146, 0.026539010927081108, 0.02868981473147869, 0.12691809237003326, 0.0315612368285656, 0.026880281046032906, 0.02832937240600586, 0.022298259660601616, 0.027994846925139427, 0.01964183710515499, 0.02067248523235321, 0.020663317292928696, 0.020069368183612823, 0.021066999062895775, 0.019967980682849884, 0.02638503722846508, 0.025775784626603127, 0.02117319591343403, 0.02041553519666195, 0.01809466816484928, 0.019314348697662354, 0.017857663333415985, 0.018079018220305443, 0.026781367138028145, 0.019101781770586967, 0.01815827377140522, 0.01761145330965519, 0.017306901514530182, 0.016367385163903236, 0.017884330824017525, 0.016487514600157738, 0.015823310241103172, 0.016877584159374237, 0.015456737019121647, 0.015675615519285202, 0.017108317464590073, 0.017083007842302322, 0.015680214390158653, 0.015870632603764534, 0.015417242422699928, 0.015237721614539623, 0.017062051221728325, 0.017126040533185005, 0.015438074246048927, 0.015418934635818005, 0.015764562413096428, 0.01668323390185833, 0.018078463152050972, 0.01728590950369835, 0.016661085188388824, 0.015508865937590599, 0.01507914625108242, 0.0169804897159338, 0.016144022345542908, 0.015353365801274776, 0.016960827633738518, 0.015546593815088272, 0.015177834779024124, 0.015696099027991295, 0.01568787358701229, 0.016276709735393524, 0.014578624628484249, 0.014503175392746925, 0.014695567078888416, 0.014057624153792858, 0.016043677926063538, 0.015742000192403793, 0.01498214527964592, 0.016336767002940178, 0.015316596254706383, 0.015249623917043209, 0.014992919750511646, 0.014614689163863659, 0.014711237512528896, 0.014589241705834866, 0.014346707612276077, 0.015344546176493168, 0.015535189770162106, 0.013660360127687454, 0.014286470599472523, 0.014702343381941319, 0.01430438831448555, 0.03527979925274849, 0.015761394053697586, 0.014802633784711361, 0.014872697181999683, 0.015063672326505184, 0.01692952960729599, 0.015490930527448654, 0.015198024921119213, 0.013712809421122074, 0.014653066173195839, 0.015343263745307922, 0.014948221854865551, 0.014552743174135685, 0.016008509323000908, 0.01462240144610405, 0.015295608900487423, 0.019511627033352852, 0.01589944027364254], 'val_f1-score': [0.7888139486312866, 0.8173072338104248, 0.7896544933319092, 0.6897645592689514, 0.7905154824256897, 0.821326494216919, 0.8049345016479492, 0.8490422964096069, 0.8013309240341187, 0.8480215668678284, 0.8551127910614014, 0.8593507409095764, 0.8502377867698669, 0.8566132187843323, 0.8551130294799805, 0.8397994637489319, 0.8326385021209717, 0.8618017435073853, 0.8533359169960022, 0.8688779473304749, 0.8577595353126526, 0.8682705163955688, 0.8741592764854431, 0.836880087852478, 0.8767510056495667, 0.876283586025238, 0.8745744824409485, 0.8765152096748352, 0.8870943188667297, 0.8694629669189453, 0.8764716982841492, 0.8866319060325623, 0.8865031599998474, 0.888383686542511, 0.8873859643936157, 0.8862550258636475, 0.8809341788291931, 0.8911569118499756, 0.8864864110946655, 0.8909599184989929, 0.8930923342704773, 0.8830507397651672, 0.8783521056175232, 0.8861250281333923, 0.893227756023407, 0.8883552551269531, 0.8737936615943909, 0.8729795217514038, 0.8826051950454712, 0.8850395083427429, 0.8930494785308838, 0.8936011791229248, 0.8852143883705139, 0.890386164188385, 0.8923502564430237, 0.8809268474578857, 0.8883562088012695, 0.8947551250457764, 0.8879690766334534, 0.8928841948509216, 0.8934747576713562, 0.8985899090766907, 0.8933600783348083, 0.8944849371910095, 0.8981953263282776, 0.8919426202774048, 0.8958759307861328, 0.8964618444442749, 0.8892481327056885, 0.9014596343040466, 0.8937289714813232, 0.8977921009063721, 0.8998107314109802, 0.8983665108680725, 0.8989490866661072, 0.9001542925834656, 0.8988033533096313, 0.8899774551391602, 0.9038799405097961, 0.8990404009819031, 0.8984281420707703, 0.9021656513214111, 0.8542274832725525, 0.8953994512557983, 0.8966599106788635, 0.8969542980194092, 0.8991852402687073, 0.8910055756568909, 0.897892951965332, 0.9008179306983948, 0.9041690826416016, 0.9016196727752686, 0.8971133828163147, 0.8982720971107483, 0.8937132358551025, 0.8972523212432861, 0.9029168486595154, 0.895700216293335, 0.867850124835968, 0.8927648663520813]}\n"
          ],
          "name": "stdout"
        },
        {
          "output_type": "display_data",
          "data": {
            "image/png": "[encoded data removed]",
            "text/plain": [
              "<Figure size 2160x360 with 2 Axes>"
            ]
          },
          "metadata": {
            "tags": [],
            "needs_background": "light"
          }
        }
      ]
    },
    {
      "cell_type": "markdown",
      "metadata": {
        "id": "WNjygU4byfwv",
        "colab_type": "text"
      },
      "source": [
        "## **Predictions**"
      ]
    },
    {
      "cell_type": "code",
      "metadata": {
        "id": "eGSMBw7oD2Ge",
        "colab_type": "code",
        "colab": {
          "base_uri": "https://localhost:8080/",
          "height": 84
        },
        "outputId": "c9a3c410-6d5e-4a37-ca5c-de38ea6a087a"
      },
      "source": [
        "#========================= Evaluate ==============================================\n",
        "# Proposed Dense Model scores\n",
        "scoreDense =model.evaluate(X_tset,Y_test,batch_size=26)\n",
        "# Pre Trained Inception scores \n",
        "scoreInception =inceptionModel.evaluate(X_tset,Y_test,batch_size=26)\n",
        "# Pre Trained densenet201 scores \n",
        "scoredensenet201 =densenet201Model.evaluate(X_tset,Y_test,batch_size=26)\n",
        "# basic unet scores \n",
        "scoreBasicUnit =unetModel.evaluate(X_tset,Y_test,batch_size=26)\n",
        "\n",
        "#=======================Find predections==========================================\n",
        "\n",
        "# ....................Dense model results.........................................\n",
        "predDense= model.predict(X_tset)\n",
        "# merge the labels in last axis, then categorize and encode predict to 4 one hot classes, Dense \n",
        "pred_merge = np.argmax(predDense, axis = 3) # (352, 128, 128)\n",
        "from keras.utils.np_utils import to_categorical   \n",
        "categorizedPredictDesnse = to_categorical(pred_merge, num_classes=4)\n",
        "test = np.argmax(Y_test, axis = 3)\n",
        "\n",
        "# ........................Basic Unit..................................................\n",
        "predBasicUnet= unetModel.predict(X_tset)\n",
        "# merge the labels in last axis, then categorize and encode predict to 4 one hot classes, Mobile \n",
        "pred_merge_unet = np.argmax(predBasicUnet, axis = 3) # (352, 128, 128)\n",
        "categorizedPredictUnet = to_categorical(pred_merge_unet, num_classes=4)\n",
        "testBasicUnet = np.argmax(Y_test, axis = 3)\n",
        "\n",
        "# Pre Trained models\n",
        "# .......................inception preds...........................................\n",
        "predInception= inceptionModel.predict(X_tset)\n",
        "# merge the labels in last axis, then categorize and encode predict to 4 one hot classes, Mobile \n",
        "pred_merge_Inception = np.argmax(predInception, axis = 3) # (352, 128, 128)\n",
        "categorizedPredictInception = to_categorical(pred_merge_Inception, num_classes=4)\n",
        "testInception = np.argmax(Y_test, axis = 3)\n",
        "\n",
        "# .......................densenet201 preds...........................................\n",
        "predDensenet201= densenet201Model.predict(X_tset)\n",
        "# merge the labels in last axis, then categorize and encode predict to 4 one hot classes, Mobile \n",
        "pred_merge_Densenet201 = np.argmax(predDensenet201, axis = 3) # (352, 128, 128)\n",
        "categorizedPredictDensenet201 = to_categorical(pred_merge_Densenet201, num_classes=4)\n",
        "testDensenet201 = np.argmax(Y_test, axis = 3)\n",
        "\n"
      ],
      "execution_count": 19,
      "outputs": [
        {
          "output_type": "stream",
          "text": [
            "14/14 [==============================] - 1s 37ms/step - loss: 0.0141 - f1-score: 0.9181\n",
            "14/14 [==============================] - 1s 67ms/step - loss: 0.3759 - iou_score: 0.5947\n",
            "14/14 [==============================] - 1s 47ms/step - loss: 0.0800 - iou_score: 0.8760\n",
            "14/14 [==============================] - 1s 60ms/step - loss: 0.7002 - iou_score: 0.3283\n"
          ],
          "name": "stdout"
        }
      ]
    },
    {
      "cell_type": "markdown",
      "metadata": {
        "id": "Qg_KzMkFCILQ",
        "colab_type": "text"
      },
      "source": [
        "## **Metrices** "
      ]
    },
    {
      "cell_type": "markdown",
      "metadata": {
        "id": "6fgGlxeLCjYh",
        "colab_type": "text"
      },
      "source": [
        "##Fully convolutional Multi_scale Residual DenseNEt\n",
        "[link text](https://)"
      ]
    },
    {
      "cell_type": "code",
      "metadata": {
        "id": "EhdsbId4Dy6O",
        "colab_type": "code",
        "outputId": "0b5e11e4-5bcf-4e7d-ebc4-574b771e63b4",
        "colab": {
          "base_uri": "https://localhost:8080/",
          "height": 166
        }
      },
      "source": [
        "# ======================= Metrices & Statistics====================================\n",
        "\n",
        "# Dice Cof each class, Dense  \n",
        "diceCovid = met.dice_coef(Y_test[:,:,:,3],categorizedPredictDesnse[:,:,:,3])\n",
        "diceLungL = met.dice_coef(Y_test[:,:,:,2],categorizedPredictDesnse[:,:,:,2])\n",
        "diceLungR = met.dice_coef(Y_test[:,:,:,1],categorizedPredictDesnse[:,:,:,1])\n",
        "#..................................................................................\n",
        "# Jaccard(IOU) each class, Dense \n",
        "iouDense = met.jc(Y_test,categorizedPredictDesnse)\n",
        "jcCovid = met.jc(Y_test[:,:,:,3],categorizedPredictDesnse[:,:,:,3])\n",
        "jcLungL = met.jc(Y_test[:,:,:,2],categorizedPredictDesnse[:,:,:,2])\n",
        "jcLungR = met.jc(Y_test[:,:,:,1],categorizedPredictDesnse[:,:,:,1])\n",
        "#...................................................................................\n",
        "# Hausdorff Distance, Dense \n",
        "# hdDense = met.Hausdorff(Y_test,categorizedPredictDesnse)\n",
        "# HausdorffCovid = met.Hausdorff(Y_test[:,:,:,3],categorizedPredictDesnse[:,:,:,3])\n",
        "# HausdorffLungL = met.Hausdorff(Y_test[:,:,:,2],categorizedPredictDesnse[:,:,:,2])\n",
        "# HausdorffLungR = met.Hausdorff(Y_test[:,:,:,1],categorizedPredictDesnse[:,:,:,1])\n",
        "from scipy.spatial.distance import directed_hausdorff\n",
        "hdDense = met.Hausdorff(Y_test,categorizedPredictDesnse)\n",
        "HausdorffCovid = directed_hausdorff(Y_test[90,:,:,3],categorizedPredictDesnse[90,:,:,3])[0]\n",
        "HausdorffLungL = directed_hausdorff(Y_test[90,:,:,2],categorizedPredictDesnse[90,:,:,2])[0]\n",
        "HausdorffLungR = directed_hausdorff(Y_test[90,:,:,1],categorizedPredictDesnse[90,:,:,1])[0]\n",
        "\n",
        "# .................Show analysis results for Dense model(Table).............................. \n",
        "import pandas as pd    \n",
        "data = {'Dice':[scoreDense[1],diceLungL,diceLungR, diceCovid],\n",
        "        'Jaccard(iou)':[iouDense*100,jcLungL*100,jcLungR*100, jcCovid*100],\n",
        "        'HD':[hdDense, HausdorffLungL,HausdorffLungR ,HausdorffCovid],\n",
        "        # 'Pearsona':[pDense[0], pMobile[0], pIncep[0]], \n",
        "        # 'P-value':[pDense[1], pMobile[1], pIncep[1]],\n",
        "        'LR':[0.001, 0.001, 0.001,0.001],\n",
        "        'Optimizer':['Adam', 'Adam', 'Adam','Adam'],\n",
        "        'Actiation':['Softmax', 'Softmax', 'Softmax','Softmax'],\n",
        "        'Param':[model.count_params(),model.count_params(), model.count_params(),model.count_params() ]} \n",
        "\n",
        "# Create the pandas DataFrame \n",
        "df = pd.DataFrame(data,index =['All classes','Left Lung', 'Right Lung', 'Covid']) \n",
        "df \n",
        "# .............................ROC & Bland Altman..................................................\n",
        "\n",
        "#===========================ROC Plots=============================================\n",
        "met.ROC(Y_test[90,:,:,1].ravel(), categorizedPredictDesnse[90,:,:,1].ravel())\n",
        "met.ROC(Y_test[90,:,:,2].ravel(), categorizedPredictDesnse[90,:,:,2].ravel())\n",
        "met.ROC(Y_test[90,:,:,3].ravel(), categorizedPredictDesnse[90,:,:,3].ravel())\n",
        "\n",
        "# ==========================Bland Altman===========================================\n",
        "# find surface area \n",
        "testPoints = []\n",
        "for i in range(Y_test.shape[0]):\n",
        "  for j in range(Y_test.shape[3]):\n",
        "    pointX = np.count_nonzero(Y_test[i,:,:,j]) / (Y_test.shape[1] * Y_test.shape[2])\n",
        "    pointY = np.count_nonzero(categorizedPredictDesnse[i,:,:,j]) /(categorizedPredictDesnse.shape[1] * X_tset.shape[2]) \n",
        "    testPoints.append([pointX,pointY])\n",
        "blandAltmanPoints = np.array(testPoints) \n",
        "import matplotlib.pyplot as plt\n",
        "import numpy as np\n",
        "stats.graphics.mean_diff_plot(blandAltmanPoints[:,0], blandAltmanPoints[:,1])\n"
      ],
      "execution_count": 28,
      "outputs": [
        {
          "output_type": "execute_result",
          "data": {
            "text/html": [
              "<div>\n",
              "<style scoped>\n",
              "    .dataframe tbody tr th:only-of-type {\n",
              "        vertical-align: middle;\n",
              "    }\n",
              "\n",
              "    .dataframe tbody tr th {\n",
              "        vertical-align: top;\n",
              "    }\n",
              "\n",
              "    .dataframe thead th {\n",
              "        text-align: right;\n",
              "    }\n",
              "</style>\n",
              "<table border=\"1\" class=\"dataframe\">\n",
              "  <thead>\n",
              "    <tr style=\"text-align: right;\">\n",
              "      <th></th>\n",
              "      <th>Dice</th>\n",
              "      <th>Jaccard(iou)</th>\n",
              "      <th>HD</th>\n",
              "      <th>LR</th>\n",
              "      <th>Optimizer</th>\n",
              "      <th>Actiation</th>\n",
              "      <th>Param</th>\n",
              "    </tr>\n",
              "  </thead>\n",
              "  <tbody>\n",
              "    <tr>\n",
              "      <th>All classes</th>\n",
              "      <td>0.918130</td>\n",
              "      <td>98.893101</td>\n",
              "      <td>2.000000</td>\n",
              "      <td>0.001</td>\n",
              "      <td>Adam</td>\n",
              "      <td>Softmax</td>\n",
              "      <td>880500</td>\n",
              "    </tr>\n",
              "    <tr>\n",
              "      <th>Left Lung</th>\n",
              "      <td>0.962835</td>\n",
              "      <td>92.833336</td>\n",
              "      <td>2.236068</td>\n",
              "      <td>0.001</td>\n",
              "      <td>Adam</td>\n",
              "      <td>Softmax</td>\n",
              "      <td>880500</td>\n",
              "    </tr>\n",
              "    <tr>\n",
              "      <th>Right Lung</th>\n",
              "      <td>0.949259</td>\n",
              "      <td>90.341817</td>\n",
              "      <td>2.000000</td>\n",
              "      <td>0.001</td>\n",
              "      <td>Adam</td>\n",
              "      <td>Softmax</td>\n",
              "      <td>880500</td>\n",
              "    </tr>\n",
              "    <tr>\n",
              "      <th>Covid</th>\n",
              "      <td>0.863186</td>\n",
              "      <td>75.930221</td>\n",
              "      <td>1.000000</td>\n",
              "      <td>0.001</td>\n",
              "      <td>Adam</td>\n",
              "      <td>Softmax</td>\n",
              "      <td>880500</td>\n",
              "    </tr>\n",
              "  </tbody>\n",
              "</table>\n",
              "</div>"
            ],
            "text/plain": [
              "                 Dice  Jaccard(iou)        HD  ...  Optimizer Actiation   Param\n",
              "All classes  0.918130     98.893101  2.000000  ...       Adam   Softmax  880500\n",
              "Left Lung    0.962835     92.833336  2.236068  ...       Adam   Softmax  880500\n",
              "Right Lung   0.949259     90.341817  2.000000  ...       Adam   Softmax  880500\n",
              "Covid        0.863186     75.930221  1.000000  ...       Adam   Softmax  880500\n",
              "\n",
              "[4 rows x 7 columns]"
            ]
          },
          "metadata": {
            "tags": []
          },
          "execution_count": 28
        }
      ]
    },
    {
      "cell_type": "markdown",
      "metadata": {
        "id": "v_GYWxEHZ_TG",
        "colab_type": "text"
      },
      "source": [
        "Basic Unet model metrices \n"
      ]
    },
    {
      "cell_type": "code",
      "metadata": {
        "id": "AWIF0lthZ_AP",
        "colab_type": "code",
        "outputId": "78380f80-479c-4167-c546-419c7feaff56",
        "colab": {
          "base_uri": "https://localhost:8080/",
          "height": 166
        }
      },
      "source": [
        "\n",
        "# Dice Coef, Basic unet  \n",
        "basicUnetDice = met.dice_coef(Y_test,categorizedPredictUnet)\n",
        "basicUnetDiceCovid = met.dice_coef(Y_test[:,:,:,3],categorizedPredictUnet[:,:,:,3])\n",
        "basicUnetDiceL = met.dice_coef(Y_test[:,:,:,2],categorizedPredictUnet[:,:,:,2])\n",
        "basicUnetDiceR = met.dice_coef(Y_test[:,:,:,1],categorizedPredictUnet[:,:,:,1])\n",
        "#.........................................................................................\n",
        "# Jaccard(IOU) each class, Inception \n",
        "basicUnetJcCovid = met.jc(Y_test[:,:,:,3],categorizedPredictUnet[:,:,:,3])\n",
        "basicUnetJcLungL = met.jc(Y_test[:,:,:,2],categorizedPredictUnet[:,:,:,2])\n",
        "basicUnetJcLungR = met.jc(Y_test[:,:,:,1],categorizedPredictUnet[:,:,:,1])\n",
        "#...........................................................................................\n",
        "# Hausdorff, Inception \n",
        "hdbasicUnet = met.Hausdorff(Y_test,categorizedPredictInception)\n",
        "basicUnetHausdorffCovid = directed_hausdorff(Y_test[90,:,:,3],categorizedPredictUnet[90,:,:,3])[0]\n",
        "basicUnetHausdorffLungL = directed_hausdorff(Y_test[90,:,:,2],categorizedPredictUnet[90,:,:,2])[0]\n",
        "basicUnetHausdorffLungR = directed_hausdorff(Y_test[90,:,:,1],categorizedPredictUnet[90,:,:,1])[0]\n",
        "\n",
        "\n",
        "# ......................Show Analysis results for Inception model...........................    \n",
        "data = {'Dice':[basicUnetDice,basicUnetDiceCovid,basicUnetDiceL, basicUnetDiceR],\n",
        "        'Jaccard(iou)':[scoreInception[0],basicUnetJcCovid,basicUnetJcLungL, basicUnetJcLungR],\n",
        "        'HD':[hdbasicUnet, basicUnetHausdorffCovid,basicUnetHausdorffLungL ,basicUnetHausdorffLungR],\n",
        "        # 'Pearsona':[pDense[0], pMobile[0], pIncep[0]], \n",
        "        # 'P-value':[pDense[1], pMobile[1], pIncep[1]],\n",
        "        'LR':[0.001, 0.001, 0.001,0.001],\n",
        "        'Optimizer':['Adam', 'Adam', 'Adam','Adam'],\n",
        "        'Actiation':['Softmax', 'Softmax', 'Softmax','Softmax'],\n",
        "        'Param':[unetModel.count_params(),unetModel.count_params(), unetModel.count_params(),unetModel.count_params() ]} \n",
        "# Create the pandas DataFrame \n",
        "df = pd.DataFrame(data,index =['All classes','Left Lung', 'Right Lung', 'Covid']) \n",
        "df "
      ],
      "execution_count": 29,
      "outputs": [
        {
          "output_type": "execute_result",
          "data": {
            "text/html": [
              "<div>\n",
              "<style scoped>\n",
              "    .dataframe tbody tr th:only-of-type {\n",
              "        vertical-align: middle;\n",
              "    }\n",
              "\n",
              "    .dataframe tbody tr th {\n",
              "        vertical-align: top;\n",
              "    }\n",
              "\n",
              "    .dataframe thead th {\n",
              "        text-align: right;\n",
              "    }\n",
              "</style>\n",
              "<table border=\"1\" class=\"dataframe\">\n",
              "  <thead>\n",
              "    <tr style=\"text-align: right;\">\n",
              "      <th></th>\n",
              "      <th>Dice</th>\n",
              "      <th>Jaccard(iou)</th>\n",
              "      <th>HD</th>\n",
              "      <th>LR</th>\n",
              "      <th>Optimizer</th>\n",
              "      <th>Actiation</th>\n",
              "      <th>Param</th>\n",
              "    </tr>\n",
              "  </thead>\n",
              "  <tbody>\n",
              "    <tr>\n",
              "      <th>All classes</th>\n",
              "      <td>0.888614</td>\n",
              "      <td>0.375948</td>\n",
              "      <td>3.000000</td>\n",
              "      <td>0.001</td>\n",
              "      <td>Adam</td>\n",
              "      <td>Softmax</td>\n",
              "      <td>27550158</td>\n",
              "    </tr>\n",
              "    <tr>\n",
              "      <th>Left Lung</th>\n",
              "      <td>0.046544</td>\n",
              "      <td>0.023826</td>\n",
              "      <td>2.236068</td>\n",
              "      <td>0.001</td>\n",
              "      <td>Adam</td>\n",
              "      <td>Softmax</td>\n",
              "      <td>27550158</td>\n",
              "    </tr>\n",
              "    <tr>\n",
              "      <th>Right Lung</th>\n",
              "      <td>0.035089</td>\n",
              "      <td>0.017858</td>\n",
              "      <td>6.557439</td>\n",
              "      <td>0.001</td>\n",
              "      <td>Adam</td>\n",
              "      <td>Softmax</td>\n",
              "      <td>27550158</td>\n",
              "    </tr>\n",
              "    <tr>\n",
              "      <th>Covid</th>\n",
              "      <td>0.096606</td>\n",
              "      <td>0.050754</td>\n",
              "      <td>4.795832</td>\n",
              "      <td>0.001</td>\n",
              "      <td>Adam</td>\n",
              "      <td>Softmax</td>\n",
              "      <td>27550158</td>\n",
              "    </tr>\n",
              "  </tbody>\n",
              "</table>\n",
              "</div>"
            ],
            "text/plain": [
              "                 Dice  Jaccard(iou)        HD  ...  Optimizer Actiation     Param\n",
              "All classes  0.888614      0.375948  3.000000  ...       Adam   Softmax  27550158\n",
              "Left Lung    0.046544      0.023826  2.236068  ...       Adam   Softmax  27550158\n",
              "Right Lung   0.035089      0.017858  6.557439  ...       Adam   Softmax  27550158\n",
              "Covid        0.096606      0.050754  4.795832  ...       Adam   Softmax  27550158\n",
              "\n",
              "[4 rows x 7 columns]"
            ]
          },
          "metadata": {
            "tags": []
          },
          "execution_count": 29
        }
      ]
    },
    {
      "cell_type": "markdown",
      "metadata": {
        "id": "XHmRH5E4Cqf7",
        "colab_type": "text"
      },
      "source": [
        "Pre trained Inception Metrices"
      ]
    },
    {
      "cell_type": "code",
      "metadata": {
        "id": "Mh544OY1CpDj",
        "colab_type": "code",
        "outputId": "e6e37014-fefb-40d9-e9c0-d9f116a8d721",
        "colab": {
          "base_uri": "https://localhost:8080/",
          "height": 166
        }
      },
      "source": [
        "\n",
        "# Dice Coef, Inception \n",
        "inceptionDice = met.dice_coef(Y_test,categorizedPredictInception)\n",
        "inceptionDiceCovid = met.dice_coef(Y_test[:,:,:,3],categorizedPredictInception[:,:,:,3])\n",
        "inceptionDiceL = met.dice_coef(Y_test[:,:,:,2],categorizedPredictInception[:,:,:,2])\n",
        "inceptionDiceR = met.dice_coef(Y_test[:,:,:,1],categorizedPredictInception[:,:,:,1])\n",
        "#.........................................................................................\n",
        "# Jaccard(IOU) each class, Inception \n",
        "inceptionJcCovid = met.jc(Y_test[:,:,:,3],categorizedPredictInception[:,:,:,3])\n",
        "inceptionJcLungL = met.jc(Y_test[:,:,:,2],categorizedPredictInception[:,:,:,2])\n",
        "inceptionJcLungR = met.jc(Y_test[:,:,:,1],categorizedPredictInception[:,:,:,1])\n",
        "#...........................................................................................\n",
        "# Hausdorff, Inception \n",
        "hdInception = met.Hausdorff(Y_test,categorizedPredictInception)\n",
        "inceptionHausdorffCovid = directed_hausdorff(Y_test[90,:,:,3],categorizedPredictInception[90,:,:,3])[0]\n",
        "inceptionHausdorffLungL = directed_hausdorff(Y_test[90,:,:,2],categorizedPredictInception[90,:,:,2])[0]\n",
        "inceptionHausdorffLungR = directed_hausdorff(Y_test[90,:,:,1],categorizedPredictInception[90,:,:,1])[0]\n",
        "\n",
        "\n",
        "# ......................Show Analysis results for Inception model...........................    \n",
        "data = {'Dice':[inceptionDice,inceptionDiceCovid,inceptionDiceL, inceptionDiceR],\n",
        "        'Jaccard(iou)':[scoreInception[0],inceptionJcCovid,inceptionJcLungL, inceptionJcLungR],\n",
        "        'HD':[hdInception, inceptionHausdorffCovid,inceptionHausdorffLungL ,inceptionHausdorffLungR],\n",
        "        # 'Pearsona':[pDense[0], pMobile[0], pIncep[0]], \n",
        "        # 'P-value':[pDense[1], pMobile[1], pIncep[1]],\n",
        "        'LR':[0.00001, 0.00001, 0.00001,0.00001],\n",
        "        'Optimizer':['Adam', 'Adam', 'Adam','Adam'],\n",
        "        'Actiation':['Softmax', 'Softmax', 'Softmax','Softmax'],\n",
        "        'Param':[inceptionModel.count_params(),inceptionModel.count_params(), inceptionModel.count_params(),inceptionModel.count_params() ]} \n",
        "# Create the pandas DataFrame \n",
        "df = pd.DataFrame(data,index =['All classes','Left Lung', 'Right Lung', 'Covid']) \n",
        "df \n"
      ],
      "execution_count": 37,
      "outputs": [
        {
          "output_type": "execute_result",
          "data": {
            "text/html": [
              "<div>\n",
              "<style scoped>\n",
              "    .dataframe tbody tr th:only-of-type {\n",
              "        vertical-align: middle;\n",
              "    }\n",
              "\n",
              "    .dataframe tbody tr th {\n",
              "        vertical-align: top;\n",
              "    }\n",
              "\n",
              "    .dataframe thead th {\n",
              "        text-align: right;\n",
              "    }\n",
              "</style>\n",
              "<table border=\"1\" class=\"dataframe\">\n",
              "  <thead>\n",
              "    <tr style=\"text-align: right;\">\n",
              "      <th></th>\n",
              "      <th>Dice</th>\n",
              "      <th>Jaccard(iou)</th>\n",
              "      <th>HD</th>\n",
              "      <th>LR</th>\n",
              "      <th>Optimizer</th>\n",
              "      <th>Actiation</th>\n",
              "      <th>Param</th>\n",
              "    </tr>\n",
              "  </thead>\n",
              "  <tbody>\n",
              "    <tr>\n",
              "      <th>All classes</th>\n",
              "      <td>0.977809</td>\n",
              "      <td>0.375948</td>\n",
              "      <td>3.000000</td>\n",
              "      <td>0.00001</td>\n",
              "      <td>Adam</td>\n",
              "      <td>Softmax</td>\n",
              "      <td>62061994</td>\n",
              "    </tr>\n",
              "    <tr>\n",
              "      <th>Left Lung</th>\n",
              "      <td>0.565636</td>\n",
              "      <td>0.394346</td>\n",
              "      <td>1.732051</td>\n",
              "      <td>0.00001</td>\n",
              "      <td>Adam</td>\n",
              "      <td>Softmax</td>\n",
              "      <td>62061994</td>\n",
              "    </tr>\n",
              "    <tr>\n",
              "      <th>Right Lung</th>\n",
              "      <td>0.904138</td>\n",
              "      <td>0.825048</td>\n",
              "      <td>2.645751</td>\n",
              "      <td>0.00001</td>\n",
              "      <td>Adam</td>\n",
              "      <td>Softmax</td>\n",
              "      <td>62061994</td>\n",
              "    </tr>\n",
              "    <tr>\n",
              "      <th>Covid</th>\n",
              "      <td>0.843148</td>\n",
              "      <td>0.728829</td>\n",
              "      <td>2.645751</td>\n",
              "      <td>0.00001</td>\n",
              "      <td>Adam</td>\n",
              "      <td>Softmax</td>\n",
              "      <td>62061994</td>\n",
              "    </tr>\n",
              "  </tbody>\n",
              "</table>\n",
              "</div>"
            ],
            "text/plain": [
              "                 Dice  Jaccard(iou)        HD  ...  Optimizer Actiation     Param\n",
              "All classes  0.977809      0.375948  3.000000  ...       Adam   Softmax  62061994\n",
              "Left Lung    0.565636      0.394346  1.732051  ...       Adam   Softmax  62061994\n",
              "Right Lung   0.904138      0.825048  2.645751  ...       Adam   Softmax  62061994\n",
              "Covid        0.843148      0.728829  2.645751  ...       Adam   Softmax  62061994\n",
              "\n",
              "[4 rows x 7 columns]"
            ]
          },
          "metadata": {
            "tags": []
          },
          "execution_count": 37
        }
      ]
    },
    {
      "cell_type": "code",
      "metadata": {
        "id": "n7bkyUbaHUql",
        "colab_type": "code",
        "colab": {}
      },
      "source": [
        "Pre trained densenet201 metrices "
      ],
      "execution_count": 0,
      "outputs": []
    },
    {
      "cell_type": "code",
      "metadata": {
        "id": "t1bZJc7Byfbn",
        "colab_type": "code",
        "colab": {}
      },
      "source": [
        "# Dice Coef, densenet201 \n",
        "densenet201Dice = met.dice_coef(Y_test,categorizedPredictDensenet201)\n",
        "densenet201DiceCovid = met.dice_coef(Y_test[:,:,:,3],categorizedPredictDensenet201[:,:,:,3])\n",
        "densenet201DiceL = met.dice_coef(Y_test[:,:,:,2],categorizedPredictDensenet201[:,:,:,2])\n",
        "densenet201DiceR = met.dice_coef(Y_test[:,:,:,1],categorizedPredictDensenet201[:,:,:,1])\n",
        "#.........................................................................................\n",
        "# Jaccard(IOU) each class, densenet201 \n",
        "densenet201JcCovid = met.jc(Y_test[:,:,:,3],categorizedPredictDensenet201[:,:,:,3])\n",
        "densenet201JcLungL = met.jc(Y_test[:,:,:,2],categorizedPredictDensenet201[:,:,:,2])\n",
        "densenet201JcLungR = met.jc(Y_test[:,:,:,1],categorizedPredictDensenet201[:,:,:,1])\n",
        "#...........................................................................................\n",
        "# Hausdorff, densenet201 \n",
        "hddensenet201 = met.Hausdorff(Y_test,categorizedPredictDensenet201)\n",
        "densenet201HausdorffCovid = directed_hausdorff(Y_test[90,:,:,3],categorizedPredictDensenet201[90,:,:,3])[0]\n",
        "densenet201HausdorffLungL = directed_hausdorff(Y_test[90,:,:,2],categorizedPredictDensenet201[90,:,:,2])[0]\n",
        "densenet201HausdorffLungR = directed_hausdorff(Y_test[90,:,:,1],categorizedPredictDensenet201[90,:,:,1])[0]\n",
        "\n",
        "\n",
        "# ......................Show Analysis results for Inception model...........................    \n",
        "data = {'Dice':[densenet201Dice,densenet201DiceCovid,densenet201DiceL, densenet201DiceR],\n",
        "        'Jaccard(iou)':[scoredensenet201[0],densenet201JcCovid,densenet201JcLungL, densenet201JcLungR],\n",
        "        'HD':[hddensenet201, densenet201HausdorffCovid,densenet201HausdorffLungL ,densenet201HausdorffLungR],\n",
        "        # 'Pearsona':[pDense[0], pMobile[0], pIncep[0]], \n",
        "        # 'P-value':[pDense[1], pMobile[1], pIncep[1]],\n",
        "        'LR':[0.0001, 0.0001, 0.0001,0.0001],\n",
        "        'Optimizer':['Adam', 'Adam', 'Adam','Adam'],\n",
        "        'Actiation':['Softmax', 'Softmax', 'Softmax','Softmax'],\n",
        "        'Param':[densenet201Model.count_params(),densenet201Model.count_params(), densenet201Model.count_params(),densenet201Model.count_params()]} \n",
        "# Create the pandas DataFrame \n",
        "df = pd.DataFrame(data,index =['All classes','Left Lung', 'Right Lung', 'Covid']) \n",
        "df \n",
        "\n",
        "\n"
      ],
      "execution_count": 0,
      "outputs": []
    },
    {
      "cell_type": "code",
      "metadata": {
        "id": "1LSfVA0st9my",
        "colab_type": "code",
        "outputId": "8d6cf4b9-b125-41ab-d194-403454daf662",
        "colab": {
          "base_uri": "https://localhost:8080/",
          "height": 613
        }
      },
      "source": [
        "\n",
        "#..................... Plot Results .............................\n",
        "\n",
        "\n",
        "fig=plt.figure(figsize=(18, 16), dpi= 80, facecolor='w', edgecolor='k')\n",
        "plt.subplot('341')\n",
        "plt.imshow(test[77], cmap='gist_heat')\n",
        "plt.title('Mask Image')\n",
        "plt.subplot('342')\n",
        "plt.imshow(Y_test[77,:,:,1])\n",
        "plt.title('Lung Mask')\n",
        "plt.subplot('343')\n",
        "plt.imshow(Y_test[77,:,:,2])\n",
        "plt.title('Lung Mask')\n",
        "plt.subplot('344')\n",
        "plt.imshow(Y_test[77,:,:,3])\n",
        "plt.title('Covid Mask')\n",
        "plt.subplot('345')\n",
        "plt.imshow(pred_merge[77], cmap='gist_heat')\n",
        "plt.title('predicted Image')\n",
        "plt.subplot('346')\n",
        "plt.imshow(categorizedPredictDesnse[77,:,:,1])\n",
        "plt.title('Lung predicted')\n",
        "plt.subplot('347')\n",
        "plt.imshow(categorizedPredictDesnse[77,:,:,2])\n",
        "plt.title('Lung predicted')\n",
        "plt.subplot('348')\n",
        "plt.imshow(categorizedPredictDesnse[77,:,:,3])\n",
        "plt.title('Covid predicted')\n",
        "\n"
      ],
      "execution_count": 35,
      "outputs": [
        {
          "output_type": "execute_result",
          "data": {
            "text/plain": [
              "Text(0.5, 1.0, 'Covid predicted')"
            ]
          },
          "metadata": {
            "tags": []
          },
          "execution_count": 35
        },
        {
          "output_type": "display_data",
          "data": {
            "image/png": "[encoded data removed]",
            "text/plain": [
              "<Figure size 1440x1280 with 8 Axes>"
            ]
          },
          "metadata": {
            "tags": []
          }
        }
      ]
    },
    {
      "cell_type": "code",
      "metadata": {
        "id": "QfD5HWvW0fvE",
        "colab_type": "code",
        "colab": {
          "base_uri": "https://localhost:8080/",
          "height": 613
        },
        "outputId": "903bdf67-5da2-4670-aa84-848a0377db8d"
      },
      "source": [
        "fig=plt.figure(figsize=(18, 16), dpi= 80, facecolor='w', edgecolor='k')\n",
        "plt.subplot('341')\n",
        "plt.imshow(test[77], cmap='gist_heat')\n",
        "plt.title('Mask Image')\n",
        "plt.subplot('342')\n",
        "plt.imshow(Y_test[77,:,:,1])\n",
        "plt.title('Lung Mask')\n",
        "plt.subplot('343')\n",
        "plt.imshow(Y_test[77,:,:,2])\n",
        "plt.title('Lung Mask')\n",
        "plt.subplot('344')\n",
        "plt.imshow(Y_test[77,:,:,3])\n",
        "plt.title('Covid Mask')\n",
        "plt.subplot('345')\n",
        "plt.imshow(pred_merge_Densenet201[77], cmap='gist_heat')\n",
        "plt.title('predicted Image')\n",
        "plt.subplot('346')\n",
        "plt.imshow(categorizedPredictDensenet201[77,:,:,1])\n",
        "plt.title('Lung predicted')\n",
        "plt.subplot('347')\n",
        "plt.imshow(categorizedPredictDensenet201[77,:,:,2])\n",
        "plt.title('Lung predicted')\n",
        "plt.subplot('348')\n",
        "plt.imshow(categorizedPredictDensenet201[77,:,:,3])\n",
        "plt.title('Covid predicted')\n",
        " \n"
      ],
      "execution_count": 34,
      "outputs": [
        {
          "output_type": "execute_result",
          "data": {
            "text/plain": [
              "Text(0.5, 1.0, 'Covid predicted')"
            ]
          },
          "metadata": {
            "tags": []
          },
          "execution_count": 34
        },
        {
          "output_type": "display_data",
          "data": {
            "image/png": "[encoded data removed]",
            "text/plain": [
              "<Figure size 1440x1280 with 8 Axes>"
            ]
          },
          "metadata": {
            "tags": []
          }
        }
      ]
    }
  ]
}